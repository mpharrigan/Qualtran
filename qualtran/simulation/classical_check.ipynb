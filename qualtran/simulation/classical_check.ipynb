{
 "cells": [
  {
   "cell_type": "markdown",
   "id": "8a97fb20-8b81-4e10-bbfa-531a5e99d525",
   "metadata": {},
   "source": [
    "# Classical"
   ]
  },
  {
   "cell_type": "code",
   "execution_count": null,
   "id": "e8d4c646-c8d7-4341-b6ad-f416f78da4e5",
   "metadata": {},
   "outputs": [],
   "source": [
    "import itertools\n",
    "import time\n",
    "import numpy as np\n",
    "\n",
    "from qualtran import DecomposeNotImplementedError, DecomposeTypeError\n",
    "\n",
    "from qualtran.drawing import show_bloq, show_call_graph"
   ]
  },
  {
   "cell_type": "code",
   "execution_count": null,
   "id": "7a28995f-b007-4c69-92df-1fe94ac7a76a",
   "metadata": {},
   "outputs": [],
   "source": [
    "from qualtran.simulation.classical_sim import _iter_exhaustive_arr_val, _iter_exhaustive_classical_values_for_signature, _random_classical_values_for_signature"
   ]
  },
  {
   "cell_type": "code",
   "execution_count": null,
   "id": "4d80f79f-4c26-40ed-9379-862739419cab",
   "metadata": {},
   "outputs": [],
   "source": [
    "from qualtran.bloqs.basic_gates import Toffoli\n",
    "from qualtran.bloqs.mcmt import And\n",
    "from qualtran.resource_counting.generalizers import ignore_cliffords, ignore_split_join\n",
    "\n",
    "def keep(b):\n",
    "    if b == Toffoli():\n",
    "        return True\n",
    "    if isinstance(b, And):\n",
    "        return True\n",
    "    return False\n",
    "\n",
    "generalize = [ignore_split_join, ignore_cliffords]"
   ]
  },
  {
   "cell_type": "code",
   "execution_count": null,
   "id": "fa69acc4-7105-4e94-974f-772f497a5823",
   "metadata": {},
   "outputs": [],
   "source": [
    "from qualtran.bloqs.arithmetic.addition import _add_small\n",
    "\n",
    "add_small = _add_small.make()\n",
    "show_bloq(add_small, 'musical_score')"
   ]
  },
  {
   "cell_type": "code",
   "execution_count": null,
   "id": "65817389-3ad3-43a0-a324-ee87cd08056e",
   "metadata": {},
   "outputs": [],
   "source": [
    "add_small.call_classically(**_random_classical_values_for_signature(add_small.signature, np.random.default_rng()))"
   ]
  },
  {
   "cell_type": "code",
   "execution_count": null,
   "id": "c1d4874c-a7c2-4824-9d22-6458d3d5a8d3",
   "metadata": {},
   "outputs": [],
   "source": [
    "from qualtran.drawing import ClassicalSimGraphDrawer\n",
    "ClassicalSimGraphDrawer(add_small, _random_classical_values_for_signature(add_small.signature, np.random.default_rng())).get_svg()"
   ]
  },
  {
   "cell_type": "code",
   "execution_count": null,
   "id": "e4060856-e29e-40ab-877b-01b6e42a1ae9",
   "metadata": {},
   "outputs": [],
   "source": [
    "ClassicalSimGraphDrawer(add_small.decompose_bloq(), _random_classical_values_for_signature(add_small.signature, np.random.default_rng())).get_svg()"
   ]
  },
  {
   "cell_type": "code",
   "execution_count": null,
   "id": "8dc29f57-0fd4-4a7b-ba14-3755cdabcbd1",
   "metadata": {},
   "outputs": [],
   "source": [
    "show_bloq(add_small.decompose_bloq(), 'musical_score')"
   ]
  },
  {
   "cell_type": "code",
   "execution_count": null,
   "id": "c030592e-d8d2-44f9-ba46-ca94a445d7c9",
   "metadata": {},
   "outputs": [],
   "source": [
    "from qualtran.simulation.classical_sim import _iter_exhaustive_classical_values_for_signature, _assert_out_vals_equal\n",
    "\n",
    "def classical_check_exhaustive(bloq):\n",
    "    cbloq = bloq.decompose_bloq()\n",
    "    for vals in _iter_exhaustive_classical_values_for_signature(bloq.signature):\n",
    "        out1 = bloq.call_classically(**vals)\n",
    "        out2 = cbloq.call_classically(**vals)\n",
    "        _assert_out_vals_equal(out1, out2)\n",
    "        print('.', end='')\n",
    "        \n",
    "\n",
    "classical_check_exhaustive(add_small)"
   ]
  },
  {
   "cell_type": "code",
   "execution_count": null,
   "id": "4532c314-13e4-49e5-9668-f2b53f7afb96",
   "metadata": {},
   "outputs": [],
   "source": [
    "from qualtran.simulation.classical_sim import _iter_random_classical_values_for_signature, _assert_out_vals_equal\n",
    "\n",
    "rng = np.random.default_rng(seed=52)\n",
    "\n",
    "def classical_check_random(bloq):\n",
    "    cbloq = bloq.decompose_bloq()\n",
    "    for vals in _iter_random_classical_values_for_signature(bloq.signature, n=100, rng=rng):\n",
    "        out1 = bloq.call_classically(**vals)\n",
    "        out2 = cbloq.call_classically(**vals)\n",
    "        _assert_out_vals_equal(out1, out2)\n",
    "        print('.', end='')\n",
    "\n",
    "classical_check_random(add_small)"
   ]
  },
  {
   "cell_type": "code",
   "execution_count": null,
   "id": "909eec5c-bad8-4d82-a396-06236136242b",
   "metadata": {},
   "outputs": [],
   "source": [
    "import qualtran.testing as qlt_testing\n",
    "\n",
    "qlt_testing.assert_bloq_example_classical_action(_add_small)"
   ]
  },
  {
   "cell_type": "code",
   "execution_count": null,
   "id": "2d7f294d-c2bd-4f54-b6a1-7d5074140f0d",
   "metadata": {},
   "outputs": [],
   "source": [
    "from qualtran.bloqs.arithmetic.addition import _add_large, Add\n",
    "from qualtran import QInt, QUInt\n",
    "add_large = Add(QUInt(8))\n",
    "show_bloq(add_large)"
   ]
  },
  {
   "cell_type": "code",
   "execution_count": null,
   "id": "42e73ac1-8b23-419e-8ce8-aa03eca3076e",
   "metadata": {},
   "outputs": [],
   "source": [
    "classical_check_random(add_large)"
   ]
  },
  {
   "cell_type": "code",
   "execution_count": null,
   "id": "72356afa-3bf7-4f6e-b820-4146b50b38dd",
   "metadata": {},
   "outputs": [],
   "source": [
    "qlt_testing.assert_bloq_example_classical_action(_add_large)"
   ]
  },
  {
   "cell_type": "code",
   "execution_count": null,
   "id": "f60c01e2-6518-4a02-8e55-5a76aac45764",
   "metadata": {},
   "outputs": [],
   "source": [
    "from qualtran.bloqs.mcmt.and_bloq import _multi_and\n",
    "multi_and = _multi_and.make()\n",
    "show_bloq(multi_and, 'musical_score')"
   ]
  },
  {
   "cell_type": "code",
   "execution_count": null,
   "id": "4c64989c-24d4-4a8a-980a-201ebd153345",
   "metadata": {},
   "outputs": [],
   "source": [
    "g, _ = multi_and.call_graph(generalizer=generalize, keep=keep)\n",
    "show_call_graph(g)"
   ]
  },
  {
   "cell_type": "code",
   "execution_count": null,
   "id": "80a5c0d4-65cf-4a9f-ada3-376d047772bb",
   "metadata": {},
   "outputs": [],
   "source": [
    "ctrl_reg = multi_and.signature[0]\n",
    "for entry in _iter_exhaustive_arr_val(ctrl_reg, ctrl_reg.dtype):\n",
    "    print(entry)"
   ]
  },
  {
   "cell_type": "code",
   "execution_count": null,
   "id": "ecfc1b9f-0456-4f6f-b988-71f5d9d31c0e",
   "metadata": {},
   "outputs": [],
   "source": [
    "show_bloq(multi_and.decompose_bloq(), 'musical_score')"
   ]
  },
  {
   "cell_type": "code",
   "execution_count": null,
   "id": "6b02d383-0a9a-439f-990b-f922b227e4e2",
   "metadata": {},
   "outputs": [],
   "source": [
    "from qualtran import QBit\n",
    "import numpy as np\n",
    "\n",
    "QBit().get_random_classical_vals(np.random.default_rng(), size=(6,))"
   ]
  },
  {
   "cell_type": "code",
   "execution_count": null,
   "id": "97e9fe60-1175-4166-b336-7fa2e6a632fc",
   "metadata": {},
   "outputs": [],
   "source": [
    "classical_check_exhaustive(multi_and)"
   ]
  },
  {
   "cell_type": "code",
   "execution_count": null,
   "id": "b8d1560b-a3fd-45f3-b317-fc2e6787fd28",
   "metadata": {},
   "outputs": [],
   "source": [
    "classical_check_random(multi_and)"
   ]
  },
  {
   "cell_type": "markdown",
   "id": "59bdf1ba-0aeb-4ecb-b170-389d4637e842",
   "metadata": {},
   "source": [
    "## multiplexed cswap"
   ]
  },
  {
   "cell_type": "code",
   "execution_count": null,
   "id": "87c2d509-06d0-43bc-a2de-408e494117c7",
   "metadata": {},
   "outputs": [],
   "source": [
    "from qualtran.bloqs.swap_network.multiplexed_cswap import _multiplexed_cswap\n",
    "multiplexed_cswap = _multiplexed_cswap.make()\n",
    "show_bloq(multiplexed_cswap)"
   ]
  },
  {
   "cell_type": "code",
   "execution_count": null,
   "id": "08b8452f-746d-43ba-ab98-4282afc88026",
   "metadata": {},
   "outputs": [],
   "source": [
    "classical_check_random(multiplexed_cswap)"
   ]
  },
  {
   "cell_type": "markdown",
   "id": "90f22d5e-f0be-423b-9072-c5771ac350f8",
   "metadata": {},
   "source": [
    "## QROM"
   ]
  },
  {
   "cell_type": "code",
   "execution_count": null,
   "id": "75841c9b-5431-4acb-b938-c1547927636f",
   "metadata": {},
   "outputs": [],
   "source": [
    "from qualtran.bloqs.data_loading.qrom import _qrom_small"
   ]
  },
  {
   "cell_type": "code",
   "execution_count": null,
   "id": "b7ec8de5-921e-476a-8668-5050251deb28",
   "metadata": {},
   "outputs": [],
   "source": [
    "qrom_small = _qrom_small.make()\n",
    "show_bloq(qrom_small)\n",
    "print(qrom_small.data)"
   ]
  },
  {
   "cell_type": "code",
   "execution_count": null,
   "id": "f1f64eed-2dea-4494-8f20-992a8b0511f2",
   "metadata": {},
   "outputs": [],
   "source": [
    "classical_check_exhaustive(qrom_small)"
   ]
  },
  {
   "cell_type": "markdown",
   "id": "133de6cd-4a45-4e1e-98b3-c32a7b454b57",
   "metadata": {},
   "source": [
    "## CZ"
   ]
  },
  {
   "cell_type": "code",
   "execution_count": null,
   "id": "572f7866-afc5-4fcc-9d3e-f0b988a62dc3",
   "metadata": {},
   "outputs": [],
   "source": [
    "from qualtran.bloqs.basic_gates import CZPowGate\n",
    "cz = CZPowGate()\n",
    "classical_check_exhaustive(cz)"
   ]
  },
  {
   "cell_type": "markdown",
   "id": "4dbaab5c-170b-4945-ab92-d4a5cb53e53a",
   "metadata": {},
   "source": [
    "## State prep"
   ]
  },
  {
   "cell_type": "code",
   "execution_count": null,
   "id": "66214c41-0e5b-4946-9ea3-9f5112fa4314",
   "metadata": {},
   "outputs": [],
   "source": [
    "from qualtran.bloqs.state_preparation.prepare_uniform_superposition import _prep_uniform\n",
    "prep_uniform = _prep_uniform.make()\n",
    "classical_check_random(prep_uniform)"
   ]
  }
 ],
 "metadata": {
  "kernelspec": {
   "display_name": "Python 3 (ipykernel)",
   "language": "python",
   "name": "python3"
  },
  "language_info": {
   "codemirror_mode": {
    "name": "ipython",
    "version": 3
   },
   "file_extension": ".py",
   "mimetype": "text/x-python",
   "name": "python",
   "nbconvert_exporter": "python",
   "pygments_lexer": "ipython3",
   "version": "3.11.7"
  }
 },
 "nbformat": 4,
 "nbformat_minor": 5
}
