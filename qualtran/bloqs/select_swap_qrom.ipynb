{
 "cells": [
  {
   "cell_type": "markdown",
   "id": "30806a4c",
   "metadata": {
    "cq.autogen": "title_cell"
   },
   "source": [
    "# Select-Swap QROM"
   ]
  },
  {
   "cell_type": "code",
   "execution_count": null,
   "id": "9e7acfeb",
   "metadata": {
    "cq.autogen": "top_imports"
   },
   "outputs": [],
   "source": [
    "from qualtran import Bloq, CompositeBloq, BloqBuilder, Signature, Register\n",
    "from qualtran.drawing import show_bloq, show_call_graph, show_counts_sigma\n",
    "from typing import *\n",
    "import numpy as np\n",
    "import sympy\n",
    "import cirq"
   ]
  },
  {
   "cell_type": "markdown",
   "id": "11580ee4",
   "metadata": {
    "cq.autogen": "SelectSwapQROM.bloq_doc.md"
   },
   "source": [
    "## `SelectSwapQROM`\n",
    "Gate to load `data[l]` in the target register when the selection register stores integer `l`.\n",
    "\n",
    "Let `N` be the number of data elements to load; and `b` be the bit-size of the target\n",
    "register in which data elements should be loaded.\n",
    "\n",
    "The `SelectSwapQROM` is a hybrid of the following two existing primitives:\n",
    "\n",
    " - Unary Iteration based `QROM` requires O(N) T-gates to load `N` data\n",
    "   elements into a `b`-sized target register. Note that the T-complexity is independent of `b`.\n",
    " - `SwapWithZeroGate` can swap a `b`-sized register at index `x` with a `b`-sized\n",
    "   register at index `0` using O(b) T-gates, if the selection register stores integer `x`.\n",
    "   Note that the swap complexity is independent of the iteration length `N`.\n",
    "\n",
    "The `SelectSwapQROM` uses a square root decomposition by combining the above two approaches to\n",
    "further optimize the T-gate complexity of loading `N` data elements, each into a `b`-sized\n",
    "target register as follows:\n",
    "\n",
    " - Divide the `N` data elements into batches of size `B` (a variable) and\n",
    "   load each batch simultaneously into `B` distinct target signature using the conventional\n",
    "   QROM. This has T-complexity `O(N / B)`.\n",
    " - Use `SwapWithZeroGate` to swap the `i % B`'th target register in batch number `i / B`\n",
    "   to load `data[i]` in the 0'th target register. This has T-complexity `O(B * b)`.\n",
    "\n",
    "Thus, the final T-complexity of `SelectSwapQROM` is $O(B * b + N / B)$ T-gates; where $B$ is\n",
    "the block-size with an optimal value of $O(\\sqrt(N / b))$.\n",
    "\n",
    "This improvement in T-complexity is achieved at the cost of using an additional $O(B * b)$\n",
    "ancilla qubits, with a nice property that these additional ancillas can be \"dirty\".\n",
    "They don't need to start in the |0> state and can be borrowed from other parts of the\n",
    "algorithm. The these dirty ancillas are restored to their original state after the operation.\n",
    "\n",
    "#### Parameters\n",
    " - `data`: Sequence of integers to load in the target register. If more than one sequence is provided, each sequence must be of the same length.\n",
    " - `target_bitsizes`: Sequence of integers describing the size of target register for each data sequence to load. Defaults to `max(data[i]).bit_length()` for each i.\n",
    " - `block_size`: Load batches of `B` data elements in each iteration of traditional QROM (N/B iterations required). Complexity of SelectSwap QROAM scales as `O(B * b + N / B)`, where `B` is the block_size. Defaults to optimal value of `O(sqrt{N / b})`. \n",
    "\n",
    "#### Registers\n",
    " - `selection`: The selection register of size `logN` to index into each `data`.\n",
    " - `target{i}_`: The target registers, one for each `data` to load the data. \n",
    "\n",
    "#### References\n",
    "[Trading T-gates for dirty qubits in state preparation and unitary synthesis](https://arxiv.org/abs/1812.00954).\n",
    "    Low, Kliuchnikov, Schaeffer. 2018.\n"
   ]
  },
  {
   "cell_type": "code",
   "execution_count": null,
   "id": "a70523d7",
   "metadata": {
    "cq.autogen": "SelectSwapQROM.bloq_doc.py"
   },
   "outputs": [],
   "source": [
    "from qualtran.bloqs.select_swap_qrom import SelectSwapQROM"
   ]
  },
  {
   "cell_type": "markdown",
   "id": "446bdac0",
   "metadata": {
    "cq.autogen": "SelectSwapQROM.example_instances.md"
   },
   "source": [
    "### Example Instances"
   ]
  },
  {
   "cell_type": "code",
   "execution_count": null,
   "id": "2d97437a",
   "metadata": {
    "cq.autogen": "SelectSwapQROM.ss_qrom"
   },
   "outputs": [],
   "source": [
    "rs = np.random.RandomState(52)\n",
    "datas = rs.randint(0, 256, size=(3, 11))\n",
    "ss_qrom = SelectSwapQROM(*datas)"
   ]
  },
  {
   "cell_type": "markdown",
   "id": "f1245d3e",
   "metadata": {
    "cq.autogen": "SelectSwapQROM.graphical_signature.md"
   },
   "source": [
    "#### Graphical Signature"
   ]
  },
  {
   "cell_type": "code",
   "execution_count": null,
   "id": "750c4365",
   "metadata": {
    "cq.autogen": "SelectSwapQROM.graphical_signature.py"
   },
   "outputs": [],
   "source": [
    "from qualtran.drawing import show_bloqs\n",
    "show_bloqs([ss_qrom],\n",
    "           ['`ss_qrom`'])"
   ]
  },
  {
   "cell_type": "markdown",
   "id": "ac2fe1d6",
   "metadata": {
    "cq.autogen": "SelectSwapQROM.call_graph.md"
   },
   "source": [
    "### Call Graph"
   ]
  },
  {
   "cell_type": "code",
   "execution_count": null,
   "id": "998499d6",
   "metadata": {
    "cq.autogen": "SelectSwapQROM.call_graph.py"
   },
   "outputs": [],
   "source": [
    "ss_qrom_g, ss_qrom_sigma = ss_qrom.call_graph()\n",
    "show_call_graph(ss_qrom_g)\n",
    "show_counts_sigma(ss_qrom_sigma)"
   ]
  }
 ],
 "metadata": {
  "kernelspec": {
   "display_name": "Python 3 (ipykernel)",
   "language": "python",
   "name": "python3"
  },
  "language_info": {
   "codemirror_mode": {
    "name": "ipython",
    "version": 3
   },
   "file_extension": ".py",
   "mimetype": "text/x-python",
   "name": "python",
   "nbconvert_exporter": "python",
   "pygments_lexer": "ipython3",
   "version": "3.11.7"
  }
 },
 "nbformat": 4,
 "nbformat_minor": 5
}
