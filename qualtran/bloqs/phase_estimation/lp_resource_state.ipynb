{
 "cells": [
  {
   "cell_type": "markdown",
   "id": "84254116",
   "metadata": {
    "cq.autogen": "title_cell"
   },
   "source": [
    "# Optimal resource states for Phase Estimation by A. Luis and J. Peřina\n",
    "\n",
    "Resource states proposed by A. Luis and J. Peřina (1996) for optimal phase measurements"
   ]
  },
  {
   "cell_type": "code",
   "execution_count": null,
   "id": "911d8f72",
   "metadata": {
    "cq.autogen": "top_imports"
   },
   "outputs": [],
   "source": [
    "from qualtran import Bloq, CompositeBloq, BloqBuilder, Signature, Register\n",
    "from qualtran import QBit, QInt, QUInt, QAny\n",
    "from qualtran.drawing import show_bloq, show_call_graph, show_counts_sigma\n",
    "from typing import *\n",
    "import numpy as np\n",
    "import sympy\n",
    "import cirq"
   ]
  },
  {
   "cell_type": "markdown",
   "id": "88cd4ee5",
   "metadata": {
    "cq.autogen": "LPRSInterimPrep.bloq_doc.md"
   },
   "source": [
    "## `LPRSInterimPrep`\n",
    "Helper Bloq to prepare an intermediate resource state which can be used in AA\n",
    "\n",
    "Specifically, this prepares the state\n",
    "\n",
    "$$\n",
    "    \\sqrt{\\frac{1}{2^{m}}}\\sum_{n=0}^{2^m - 1}\\left(\\cos{\\left(\\frac{\\pi(n+1)}{2^m+1}\\right)}\n",
    "    |n\\rangle|0\\rangle + i\\sin{\\left(\\frac{\\pi(n+1)}{2^m+1}\\right)}|n\\rangle|1\\rangle\\right)\n",
    "$$\n",
    "\n",
    "This is the state obtained after applying the Hadamard on the flag qubit as described in\n",
    "Eq 19 of https://arxiv.org/pdf/1805.03662.pdf, which can then be used in a single round of\n",
    "Amplitude Amplification to boost the amplitude of desired resource state to 1."
   ]
  },
  {
   "cell_type": "code",
   "execution_count": null,
   "id": "14b96f3c",
   "metadata": {
    "cq.autogen": "LPRSInterimPrep.bloq_doc.py"
   },
   "outputs": [],
   "source": [
    "from qualtran.bloqs.phase_estimation.lp_resource_state import LPRSInterimPrep"
   ]
  },
  {
   "cell_type": "markdown",
   "id": "3010bc2b",
   "metadata": {
    "cq.autogen": "LPRSInterimPrep.example_instances.md"
   },
   "source": [
    "### Example Instances"
   ]
  },
  {
   "cell_type": "code",
   "execution_count": null,
   "id": "e464fe0a",
   "metadata": {
    "cq.autogen": "LPRSInterimPrep.lprs_interim_prep"
   },
   "outputs": [],
   "source": [
    "lprs_interim_prep = LPRSInterimPrep(5)"
   ]
  },
  {
   "cell_type": "markdown",
   "id": "3e0b5c82",
   "metadata": {
    "cq.autogen": "LPRSInterimPrep.graphical_signature.md"
   },
   "source": [
    "#### Graphical Signature"
   ]
  },
  {
   "cell_type": "code",
   "execution_count": null,
   "id": "0765c81a",
   "metadata": {
    "cq.autogen": "LPRSInterimPrep.graphical_signature.py"
   },
   "outputs": [],
   "source": [
    "from qualtran.drawing import show_bloqs\n",
    "show_bloqs([lprs_interim_prep],\n",
    "           ['`lprs_interim_prep`'])"
   ]
  },
  {
   "cell_type": "markdown",
   "id": "95cefe6c",
   "metadata": {
    "cq.autogen": "LPRSInterimPrep.call_graph.md"
   },
   "source": [
    "### Call Graph"
   ]
  },
  {
   "cell_type": "code",
   "execution_count": null,
   "id": "2f4c201a",
   "metadata": {
    "cq.autogen": "LPRSInterimPrep.call_graph.py"
   },
   "outputs": [],
   "source": [
    "from qualtran.resource_counting.generalizers import ignore_split_join\n",
    "lprs_interim_prep_g, lprs_interim_prep_sigma = lprs_interim_prep.call_graph(max_depth=1, generalizer=ignore_split_join)\n",
    "show_call_graph(lprs_interim_prep_g)\n",
    "show_counts_sigma(lprs_interim_prep_sigma)"
   ]
  },
  {
   "cell_type": "markdown",
   "id": "a7241381",
   "metadata": {
    "cq.autogen": "LPResourceState.bloq_doc.md"
   },
   "source": [
    "## `LPResourceState`\n",
    "Prepares optimal resource state $\\chi_{m}$ proposed by A. Luis and J. Peřina (1996)\n",
    "\n",
    "Uses a single round of amplitude amplification, as described in Ref 2, to prepare the\n",
    "resource state from Ref 1 described as\n",
    "\n",
    "$$\n",
    "\\chi_{m} = \\sqrt{\\frac{2}{2^m + 1}}\\sum_{n=0}^{2^m - 1}\\sin{\\frac{\\pi(n+1)}{2^m+1}}|n\\rangle\n",
    "$$\n",
    "\n",
    "#### Parameters\n",
    " - `bitsize`: The size of the phase register to prepare the resource state on.  \n",
    "\n",
    "#### References\n",
    " - [Optimum phase-shift estimation and the quantum description of the phase difference](https://journals.aps.org/pra/abstract/10.1103/PhysRevA.54.4564). \n",
    " - [Encoding Electronic Spectra in Quantum Circuits with Linear T Complexity](https://arxiv.org/abs/1805.03662). Section II-B\n"
   ]
  },
  {
   "cell_type": "code",
   "execution_count": null,
   "id": "6c5516d2",
   "metadata": {
    "cq.autogen": "LPResourceState.bloq_doc.py"
   },
   "outputs": [],
   "source": [
    "from qualtran.bloqs.phase_estimation.lp_resource_state import LPResourceState"
   ]
  },
  {
   "cell_type": "markdown",
   "id": "cfbba478",
   "metadata": {
    "cq.autogen": "LPResourceState.example_instances.md"
   },
   "source": [
    "### Example Instances"
   ]
  },
  {
   "cell_type": "code",
   "execution_count": null,
   "id": "c240f76f",
   "metadata": {
    "cq.autogen": "LPResourceState.lp_resource_state_small"
   },
   "outputs": [],
   "source": [
    "lp_resource_state_small = LPResourceState(5)"
   ]
  },
  {
   "cell_type": "code",
   "execution_count": null,
   "id": "dca73bc2",
   "metadata": {
    "cq.autogen": "LPResourceState.lp_resource_state_symbolic"
   },
   "outputs": [],
   "source": [
    "import sympy\n",
    "\n",
    "lp_resource_state_symbolic = LPResourceState(sympy.Symbol('n'))"
   ]
  },
  {
   "cell_type": "markdown",
   "id": "88c02acd",
   "metadata": {
    "cq.autogen": "LPResourceState.graphical_signature.md"
   },
   "source": [
    "#### Graphical Signature"
   ]
  },
  {
   "cell_type": "code",
   "execution_count": null,
   "id": "68ccc4f5",
   "metadata": {
    "cq.autogen": "LPResourceState.graphical_signature.py"
   },
   "outputs": [],
   "source": [
    "from qualtran.drawing import show_bloqs\n",
    "show_bloqs([lp_resource_state_small, lp_resource_state_symbolic],\n",
    "           ['`lp_resource_state_small`', '`lp_resource_state_symbolic`'])"
   ]
  },
  {
   "cell_type": "markdown",
   "id": "3784b8e4",
   "metadata": {
    "cq.autogen": "LPResourceState.call_graph.md"
   },
   "source": [
    "### Call Graph"
   ]
  },
  {
   "cell_type": "code",
   "execution_count": null,
   "id": "ce116ae5",
   "metadata": {
    "cq.autogen": "LPResourceState.call_graph.py"
   },
   "outputs": [],
   "source": [
    "from qualtran.resource_counting.generalizers import ignore_split_join\n",
    "lp_resource_state_small_g, lp_resource_state_small_sigma = lp_resource_state_small.call_graph(max_depth=1, generalizer=ignore_split_join)\n",
    "show_call_graph(lp_resource_state_small_g)\n",
    "show_counts_sigma(lp_resource_state_small_sigma)"
   ]
  },
  {
   "cell_type": "markdown",
   "id": "3f3f2081-6524-4fb6-a0e2-58671288c045",
   "metadata": {},
   "source": [
    "## Simulation"
   ]
  },
  {
   "cell_type": "code",
   "execution_count": null,
   "id": "1ee18820-d4b9-4a6e-be70-46cd9be66674",
   "metadata": {},
   "outputs": [],
   "source": [
    "import logging\n",
    "logging.basicConfig(level=logging.INFO)"
   ]
  },
  {
   "cell_type": "code",
   "execution_count": null,
   "id": "87d1c528-ef45-4eb6-bc09-9fded1c8628e",
   "metadata": {},
   "outputs": [],
   "source": [
    "lp = LPResourceState(12)"
   ]
  },
  {
   "cell_type": "code",
   "execution_count": null,
   "id": "7f3896b5-d9cf-4ce3-bb98-da5b740c2c71",
   "metadata": {},
   "outputs": [],
   "source": [
    "#%%time\n",
    "#_ = lp.tensor_contract()"
   ]
  },
  {
   "cell_type": "code",
   "execution_count": null,
   "id": "1cf8cb3c-b699-4183-ba37-ae0b875c01db",
   "metadata": {},
   "outputs": [],
   "source": [
    "from qualtran.simulation.tensor import flatten_for_tensor_contraction"
   ]
  },
  {
   "cell_type": "code",
   "execution_count": null,
   "id": "6d837a63-17b0-4444-907a-77db2cc354d4",
   "metadata": {},
   "outputs": [],
   "source": [
    "flat = flatten_for_tensor_contraction(lp)\n",
    "show_bloq(flat)"
   ]
  },
  {
   "cell_type": "code",
   "execution_count": null,
   "id": "5c49f090-4260-4bd4-95ee-1789ca0afec7",
   "metadata": {},
   "outputs": [],
   "source": [
    "%%time\n",
    "_ = flat.tensor_contract()"
   ]
  },
  {
   "cell_type": "code",
   "execution_count": null,
   "id": "817ca93b-6cab-4d1d-926d-d475aaaeffda",
   "metadata": {},
   "outputs": [],
   "source": [
    "%%time\n",
    "from qualtran.cirq_interop.testing import GateHelper\n",
    "circuit = GateHelper(lp).circuit"
   ]
  },
  {
   "cell_type": "code",
   "execution_count": null,
   "id": "083ce81e-be16-429b-a2e3-742e82718978",
   "metadata": {},
   "outputs": [],
   "source": [
    "%%time\n",
    "data_c = circuit.final_state_vector()"
   ]
  },
  {
   "cell_type": "code",
   "execution_count": null,
   "id": "65d6b983-4902-4310-a733-5284849131d0",
   "metadata": {},
   "outputs": [],
   "source": [
    "np.testing.assert_allclose(data, data_c)"
   ]
  },
  {
   "cell_type": "code",
   "execution_count": null,
   "id": "5f10b849-0974-429d-b039-fee89054d10f",
   "metadata": {},
   "outputs": [],
   "source": [
    "%%time\n",
    "_ = circuit.unitary()"
   ]
  }
 ],
 "metadata": {
  "kernelspec": {
   "display_name": "Python 3 (ipykernel)",
   "language": "python",
   "name": "python3"
  },
  "language_info": {
   "codemirror_mode": {
    "name": "ipython",
    "version": 3
   },
   "file_extension": ".py",
   "mimetype": "text/x-python",
   "name": "python",
   "nbconvert_exporter": "python",
   "pygments_lexer": "ipython3",
   "version": "3.11.7"
  }
 },
 "nbformat": 4,
 "nbformat_minor": 5
}
