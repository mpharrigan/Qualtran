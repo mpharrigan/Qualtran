{
 "cells": [
  {
   "cell_type": "markdown",
   "id": "4881cd25",
   "metadata": {
    "cq.autogen": "title_cell"
   },
   "source": [
    "# Basic Gates\n",
    "\n",
    "Basic quantum gates.\n",
    "\n",
    "The bloqs in this module encode gates you'd expect to find in any quantum computing\n",
    "framework. It includes single-qubit unitary gates like rotations, bit- and phase-flip;\n",
    "basic multi-qubit unitary gates; states and effects in the Pauli basis; and non-Clifford\n",
    "gates `TGate` and `Toffoli` which are commonly counted to estimate algorithm resource\n",
    "requirements."
   ]
  },
  {
   "cell_type": "code",
   "execution_count": null,
   "id": "0ab859e3",
   "metadata": {
    "cq.autogen": "top_imports"
   },
   "outputs": [],
   "source": [
    "from qualtran import Bloq, CompositeBloq, BloqBuilder, Signature, Register\n",
    "from qualtran import QBit, QInt, QUInt, QAny\n",
    "from qualtran.drawing import show_bloq, show_call_graph, show_counts_sigma\n",
    "from typing import *\n",
    "import numpy as np\n",
    "import sympy\n",
    "import cirq"
   ]
  },
  {
   "cell_type": "markdown",
   "id": "931869ce",
   "metadata": {
    "cq.autogen": "_make_plus_state.md"
   },
   "source": [
    "## `PlusState`\n",
    "The state |+>"
   ]
  },
  {
   "cell_type": "code",
   "execution_count": null,
   "id": "9fc15a60",
   "metadata": {
    "cq.autogen": "_make_plus_state.py"
   },
   "outputs": [],
   "source": [
    "from qualtran.bloqs.basic_gates import PlusState\n",
    "\n",
    "bloq = PlusState()\n",
    "show_bloq(bloq)"
   ]
  },
  {
   "cell_type": "code",
   "execution_count": null,
   "id": "ca77ccab",
   "metadata": {},
   "outputs": [],
   "source": [
    "bloq.tensor_contract()"
   ]
  },
  {
   "cell_type": "markdown",
   "id": "adf03968",
   "metadata": {
    "cq.autogen": "_make_zero_state.md"
   },
   "source": [
    "## `ZeroState`\n",
    "The state |0>"
   ]
  },
  {
   "cell_type": "code",
   "execution_count": null,
   "id": "c188f4bd",
   "metadata": {
    "cq.autogen": "_make_zero_state.py"
   },
   "outputs": [],
   "source": [
    "from qualtran.bloqs.basic_gates import ZeroState\n",
    "\n",
    "bloq = ZeroState()\n",
    "show_bloq(bloq)"
   ]
  },
  {
   "cell_type": "markdown",
   "id": "bd188cd5",
   "metadata": {},
   "source": [
    "## Synthesizing a Bell state\n",
    "\n",
    "We can create a bell state (|00> + |11>) by cnotting a |+> state into a |0> state."
   ]
  },
  {
   "cell_type": "code",
   "execution_count": null,
   "id": "e2758826",
   "metadata": {},
   "outputs": [],
   "source": [
    "from qualtran.bloqs.basic_gates import ZeroState\n",
    "\n",
    "bb = BloqBuilder()\n",
    "\n",
    "q0 = bb.add(PlusState())\n",
    "q1 = bb.add(ZeroState())\n",
    "\n",
    "q0, q1 = bb.add(CNOT(), ctrl=q0, target=q1)\n",
    "\n",
    "cbloq = bb.finalize(q0=q0, q1=q1)\n",
    "show_bloq(cbloq)"
   ]
  },
  {
   "cell_type": "code",
   "execution_count": null,
   "id": "61dcdfaf",
   "metadata": {},
   "outputs": [],
   "source": [
    "cbloq.tensor_contract()"
   ]
  },
  {
   "cell_type": "markdown",
   "id": "9c1e3acf",
   "metadata": {},
   "source": [
    "`PlusState` and `ZeroState` provide `as_cirq_op` methods for Cirq interoperability, resulting in the familiar `cirq.Circuit` for constructing a Bell state."
   ]
  },
  {
   "cell_type": "code",
   "execution_count": null,
   "id": "dcbe786b",
   "metadata": {},
   "outputs": [],
   "source": [
    "from cirq.contrib.svg import SVGCircuit\n",
    "circuit, qubits = cbloq.to_cirq_circuit()\n",
    "SVGCircuit(circuit)"
   ]
  },
  {
   "cell_type": "markdown",
   "id": "8846fb21",
   "metadata": {
    "cq.autogen": "_make_Rz.md"
   },
   "source": [
    "## `Rz`\n",
    "Single-qubit Rz gate.\n",
    "\n",
    "#### Parameters\n",
    " - `angle`: Rotation angle in radians.\n",
    " - `eps`: precision for implementation of rotation. \n",
    "\n",
    "#### Registers\n",
    " - `q`: One-bit register. \n",
    "\n",
    "#### References\n",
    " - [Efficient synthesis of universal Repeat-Until-Success circuits](https://arxiv.org/abs/1404.5320). Offers a small improvement\n",
    " - [Optimal ancilla-free Clifford+T approximation of z-rotations](https://arxiv.org/pdf/1403.2975.pdf). \n"
   ]
  },
  {
   "cell_type": "code",
   "execution_count": null,
   "id": "82f2d005",
   "metadata": {
    "cq.autogen": "_make_Rz.py"
   },
   "outputs": [],
   "source": [
    "from qualtran.bloqs.basic_gates import Rz\n",
    "\n",
    "bloq = Rz(angle=np.pi / 4.0)\n",
    "show_bloq(bloq)"
   ]
  }
 ],
 "metadata": {
  "kernelspec": {
   "display_name": "Python 3 (ipykernel)",
   "language": "python",
   "name": "python3"
  },
  "language_info": {
   "codemirror_mode": {
    "name": "ipython",
    "version": 3
   },
   "file_extension": ".py",
   "mimetype": "text/x-python",
   "name": "python",
   "nbconvert_exporter": "python",
   "pygments_lexer": "ipython3",
   "version": "3.11.8"
  }
 },
 "nbformat": 4,
 "nbformat_minor": 5
}
