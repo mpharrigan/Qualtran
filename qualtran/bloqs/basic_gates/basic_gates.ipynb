{
 "cells": [
  {
   "cell_type": "markdown",
   "id": "4881cd25",
   "metadata": {
    "cq.autogen": "title_cell"
   },
   "source": [
    "# Basic Gates\n",
    "\n",
    "Basic quantum gates.\n",
    "\n",
    "The bloqs in this module encode gates you'd expect to find in any quantum computing\n",
    "framework. It includes single-qubit unitary gates like rotations, bit- and phase-flip;\n",
    "basic multi-qubit unitary gates; states and effects in the Pauli basis; and non-Clifford\n",
    "gates `TGate` and `Toffoli` which are commonly counted to estimate algorithm resource\n",
    "requirements."
   ]
  },
  {
   "cell_type": "code",
   "execution_count": null,
   "id": "0ab859e3",
   "metadata": {
    "cq.autogen": "top_imports"
   },
   "outputs": [],
   "source": [
    "from qualtran import Bloq, CompositeBloq, BloqBuilder, Signature, Register\n",
    "from qualtran import QBit, QInt, QUInt, QAny\n",
    "from qualtran.drawing import show_bloq, show_call_graph, show_counts_sigma\n",
    "from typing import *\n",
    "import numpy as np\n",
    "import sympy\n",
    "import cirq"
   ]
  }
 ],
 "metadata": {
  "kernelspec": {
   "display_name": "Python 3 (ipykernel)",
   "language": "python",
   "name": "python3"
  },
  "language_info": {
   "codemirror_mode": {
    "name": "ipython",
    "version": 3
   },
   "file_extension": ".py",
   "mimetype": "text/x-python",
   "name": "python",
   "nbconvert_exporter": "python",
   "pygments_lexer": "ipython3",
   "version": "3.11.8"
  }
 },
 "nbformat": 4,
 "nbformat_minor": 5
}
