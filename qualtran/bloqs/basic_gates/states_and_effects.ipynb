{
 "cells": [
  {
   "cell_type": "markdown",
   "id": "6d0f2201",
   "metadata": {
    "cq.autogen": "title_cell"
   },
   "source": [
    "# States and Effects"
   ]
  },
  {
   "cell_type": "code",
   "execution_count": null,
   "id": "db7ec1e7",
   "metadata": {
    "cq.autogen": "top_imports"
   },
   "outputs": [],
   "source": [
    "from qualtran import Bloq, CompositeBloq, BloqBuilder, Signature, Register\n",
    "from qualtran import QBit, QInt, QUInt, QAny\n",
    "from qualtran.drawing import show_bloq, show_call_graph, show_counts_sigma\n",
    "from typing import *\n",
    "import numpy as np\n",
    "import sympy\n",
    "import cirq"
   ]
  },
  {
   "cell_type": "markdown",
   "id": "4dee16ba",
   "metadata": {
    "cq.autogen": "ZeroState.bloq_doc.md"
   },
   "source": [
    "## `ZeroState`\n",
    "The state |0>"
   ]
  },
  {
   "cell_type": "code",
   "execution_count": null,
   "id": "36865033",
   "metadata": {
    "cq.autogen": "ZeroState.bloq_doc.py"
   },
   "outputs": [],
   "source": [
    "from qualtran.bloqs.basic_gates import ZeroState"
   ]
  },
  {
   "cell_type": "markdown",
   "id": "9131bf1b",
   "metadata": {
    "cq.autogen": "ZeroState.example_instances.md"
   },
   "source": [
    "### Example Instances"
   ]
  },
  {
   "cell_type": "code",
   "execution_count": null,
   "id": "aaed87fa",
   "metadata": {
    "cq.autogen": "ZeroState.zero_state"
   },
   "outputs": [],
   "source": [
    "zero_state = ZeroState()"
   ]
  },
  {
   "cell_type": "markdown",
   "id": "3f1e3fa2",
   "metadata": {
    "cq.autogen": "ZeroState.graphical_signature.md"
   },
   "source": [
    "#### Graphical Signature"
   ]
  },
  {
   "cell_type": "code",
   "execution_count": null,
   "id": "9dcfbfb2",
   "metadata": {
    "cq.autogen": "ZeroState.graphical_signature.py"
   },
   "outputs": [],
   "source": [
    "from qualtran.drawing import show_bloqs\n",
    "show_bloqs([zero_state],\n",
    "           ['`zero_state`'])"
   ]
  },
  {
   "cell_type": "markdown",
   "id": "93f6f6ec",
   "metadata": {
    "cq.autogen": "ZeroState.call_graph.md"
   },
   "source": [
    "### Call Graph"
   ]
  },
  {
   "cell_type": "code",
   "execution_count": null,
   "id": "4668b9f8",
   "metadata": {
    "cq.autogen": "ZeroState.call_graph.py"
   },
   "outputs": [],
   "source": [
    "from qualtran.resource_counting.generalizers import ignore_split_join\n",
    "zero_state_g, zero_state_sigma = zero_state.call_graph(max_depth=1, generalizer=ignore_split_join)\n",
    "show_call_graph(zero_state_g)\n",
    "show_counts_sigma(zero_state_sigma)"
   ]
  },
  {
   "cell_type": "markdown",
   "id": "ccc0c092",
   "metadata": {
    "cq.autogen": "ZeroEffect.bloq_doc.md"
   },
   "source": [
    "## `ZeroEffect`\n",
    "The effect <0|"
   ]
  },
  {
   "cell_type": "code",
   "execution_count": null,
   "id": "72678f90",
   "metadata": {
    "cq.autogen": "ZeroEffect.bloq_doc.py"
   },
   "outputs": [],
   "source": [
    "from qualtran.bloqs.basic_gates import ZeroEffect"
   ]
  },
  {
   "cell_type": "markdown",
   "id": "a7598e23",
   "metadata": {
    "cq.autogen": "ZeroEffect.example_instances.md"
   },
   "source": [
    "### Example Instances"
   ]
  },
  {
   "cell_type": "code",
   "execution_count": null,
   "id": "569bdccb",
   "metadata": {
    "cq.autogen": "ZeroEffect.zero_effect"
   },
   "outputs": [],
   "source": [
    "zero_effect = ZeroEffect()"
   ]
  },
  {
   "cell_type": "markdown",
   "id": "92d0e1ef",
   "metadata": {
    "cq.autogen": "ZeroEffect.graphical_signature.md"
   },
   "source": [
    "#### Graphical Signature"
   ]
  },
  {
   "cell_type": "code",
   "execution_count": null,
   "id": "7eb749fc",
   "metadata": {
    "cq.autogen": "ZeroEffect.graphical_signature.py"
   },
   "outputs": [],
   "source": [
    "from qualtran.drawing import show_bloqs\n",
    "show_bloqs([zero_effect],\n",
    "           ['`zero_effect`'])"
   ]
  },
  {
   "cell_type": "markdown",
   "id": "11703907",
   "metadata": {
    "cq.autogen": "ZeroEffect.call_graph.md"
   },
   "source": [
    "### Call Graph"
   ]
  },
  {
   "cell_type": "code",
   "execution_count": null,
   "id": "53d49c0e",
   "metadata": {
    "cq.autogen": "ZeroEffect.call_graph.py"
   },
   "outputs": [],
   "source": [
    "from qualtran.resource_counting.generalizers import ignore_split_join\n",
    "zero_effect_g, zero_effect_sigma = zero_effect.call_graph(max_depth=1, generalizer=ignore_split_join)\n",
    "show_call_graph(zero_effect_g)\n",
    "show_counts_sigma(zero_effect_sigma)"
   ]
  },
  {
   "cell_type": "markdown",
   "id": "ffac197a",
   "metadata": {
    "cq.autogen": "OneState.bloq_doc.md"
   },
   "source": [
    "## `OneState`\n",
    "The state |1>"
   ]
  },
  {
   "cell_type": "code",
   "execution_count": null,
   "id": "0fed83fa",
   "metadata": {
    "cq.autogen": "OneState.bloq_doc.py"
   },
   "outputs": [],
   "source": [
    "from qualtran.bloqs.basic_gates import OneState"
   ]
  },
  {
   "cell_type": "markdown",
   "id": "a5bd8ee1",
   "metadata": {
    "cq.autogen": "OneState.example_instances.md"
   },
   "source": [
    "### Example Instances"
   ]
  },
  {
   "cell_type": "code",
   "execution_count": null,
   "id": "2a1b9387",
   "metadata": {
    "cq.autogen": "OneState.one_state"
   },
   "outputs": [],
   "source": [
    "one_state = OneState()"
   ]
  },
  {
   "cell_type": "markdown",
   "id": "dba14a26",
   "metadata": {
    "cq.autogen": "OneState.graphical_signature.md"
   },
   "source": [
    "#### Graphical Signature"
   ]
  },
  {
   "cell_type": "code",
   "execution_count": null,
   "id": "60a73137",
   "metadata": {
    "cq.autogen": "OneState.graphical_signature.py"
   },
   "outputs": [],
   "source": [
    "from qualtran.drawing import show_bloqs\n",
    "show_bloqs([one_state],\n",
    "           ['`one_state`'])"
   ]
  },
  {
   "cell_type": "markdown",
   "id": "1aa80735",
   "metadata": {
    "cq.autogen": "OneState.call_graph.md"
   },
   "source": [
    "### Call Graph"
   ]
  },
  {
   "cell_type": "code",
   "execution_count": null,
   "id": "f10e900d",
   "metadata": {
    "cq.autogen": "OneState.call_graph.py"
   },
   "outputs": [],
   "source": [
    "from qualtran.resource_counting.generalizers import ignore_split_join\n",
    "one_state_g, one_state_sigma = one_state.call_graph(max_depth=1, generalizer=ignore_split_join)\n",
    "show_call_graph(one_state_g)\n",
    "show_counts_sigma(one_state_sigma)"
   ]
  },
  {
   "cell_type": "markdown",
   "id": "a844b23f",
   "metadata": {
    "cq.autogen": "OneEffect.bloq_doc.md"
   },
   "source": [
    "## `OneEffect`\n",
    "The effect <1|"
   ]
  },
  {
   "cell_type": "code",
   "execution_count": null,
   "id": "a73b8207",
   "metadata": {
    "cq.autogen": "OneEffect.bloq_doc.py"
   },
   "outputs": [],
   "source": [
    "from qualtran.bloqs.basic_gates import OneEffect"
   ]
  },
  {
   "cell_type": "markdown",
   "id": "511d61ae",
   "metadata": {
    "cq.autogen": "OneEffect.example_instances.md"
   },
   "source": [
    "### Example Instances"
   ]
  },
  {
   "cell_type": "code",
   "execution_count": null,
   "id": "1e5c4f26",
   "metadata": {
    "cq.autogen": "OneEffect.one_effect"
   },
   "outputs": [],
   "source": [
    "one_effect = OneEffect()"
   ]
  },
  {
   "cell_type": "markdown",
   "id": "1aebe8aa",
   "metadata": {
    "cq.autogen": "OneEffect.graphical_signature.md"
   },
   "source": [
    "#### Graphical Signature"
   ]
  },
  {
   "cell_type": "code",
   "execution_count": null,
   "id": "7e492bb6",
   "metadata": {
    "cq.autogen": "OneEffect.graphical_signature.py"
   },
   "outputs": [],
   "source": [
    "from qualtran.drawing import show_bloqs\n",
    "show_bloqs([one_effect],\n",
    "           ['`one_effect`'])"
   ]
  },
  {
   "cell_type": "markdown",
   "id": "423fea39",
   "metadata": {
    "cq.autogen": "OneEffect.call_graph.md"
   },
   "source": [
    "### Call Graph"
   ]
  },
  {
   "cell_type": "code",
   "execution_count": null,
   "id": "b6ccdfc9",
   "metadata": {
    "cq.autogen": "OneEffect.call_graph.py"
   },
   "outputs": [],
   "source": [
    "from qualtran.resource_counting.generalizers import ignore_split_join\n",
    "one_effect_g, one_effect_sigma = one_effect.call_graph(max_depth=1, generalizer=ignore_split_join)\n",
    "show_call_graph(one_effect_g)\n",
    "show_counts_sigma(one_effect_sigma)"
   ]
  },
  {
   "cell_type": "markdown",
   "id": "265284e0",
   "metadata": {
    "cq.autogen": "IntState.bloq_doc.md"
   },
   "source": [
    "## `IntState`\n",
    "The state |val> for non-negative integer val\n",
    "\n",
    "#### Parameters\n",
    " - `val`: the classical value\n",
    " - `bitsize`: The bitsize of the register \n",
    "\n",
    "#### Registers\n",
    " - `val`: The register of size `bitsize` which initializes the value `val`.\n"
   ]
  },
  {
   "cell_type": "code",
   "execution_count": null,
   "id": "5b8e22fe",
   "metadata": {
    "cq.autogen": "IntState.bloq_doc.py"
   },
   "outputs": [],
   "source": [
    "from qualtran.bloqs.basic_gates import IntState"
   ]
  },
  {
   "cell_type": "markdown",
   "id": "4c13bd35",
   "metadata": {
    "cq.autogen": "IntState.example_instances.md"
   },
   "source": [
    "### Example Instances"
   ]
  },
  {
   "cell_type": "code",
   "execution_count": null,
   "id": "780e697d",
   "metadata": {
    "cq.autogen": "IntState.int_state"
   },
   "outputs": [],
   "source": [
    "int_state = IntState(55, bitsize=8)"
   ]
  },
  {
   "cell_type": "markdown",
   "id": "abf1cf71",
   "metadata": {
    "cq.autogen": "IntState.graphical_signature.md"
   },
   "source": [
    "#### Graphical Signature"
   ]
  },
  {
   "cell_type": "code",
   "execution_count": null,
   "id": "0f359756",
   "metadata": {
    "cq.autogen": "IntState.graphical_signature.py"
   },
   "outputs": [],
   "source": [
    "from qualtran.drawing import show_bloqs\n",
    "show_bloqs([int_state],\n",
    "           ['`int_state`'])"
   ]
  },
  {
   "cell_type": "markdown",
   "id": "a2e439f2",
   "metadata": {
    "cq.autogen": "IntState.call_graph.md"
   },
   "source": [
    "### Call Graph"
   ]
  },
  {
   "cell_type": "code",
   "execution_count": null,
   "id": "9d09b2f0",
   "metadata": {
    "cq.autogen": "IntState.call_graph.py"
   },
   "outputs": [],
   "source": [
    "from qualtran.resource_counting.generalizers import ignore_split_join\n",
    "int_state_g, int_state_sigma = int_state.call_graph(max_depth=1, generalizer=ignore_split_join)\n",
    "show_call_graph(int_state_g)\n",
    "show_counts_sigma(int_state_sigma)"
   ]
  },
  {
   "cell_type": "markdown",
   "id": "24987094",
   "metadata": {
    "cq.autogen": "IntEffect.bloq_doc.md"
   },
   "source": [
    "## `IntEffect`\n",
    "The effect <val| for non-negative integer val\n",
    "\n",
    "#### Parameters\n",
    " - `val`: the classical value\n",
    " - `bitsize`: The bitsize of the register \n",
    "\n",
    "#### Registers\n",
    " - `val`: The register of size `bitsize` which de-allocates the value `val`.\n"
   ]
  },
  {
   "cell_type": "code",
   "execution_count": null,
   "id": "7281a61e",
   "metadata": {
    "cq.autogen": "IntEffect.bloq_doc.py"
   },
   "outputs": [],
   "source": [
    "from qualtran.bloqs.basic_gates import IntEffect"
   ]
  },
  {
   "cell_type": "markdown",
   "id": "a9d594a4",
   "metadata": {
    "cq.autogen": "IntEffect.example_instances.md"
   },
   "source": [
    "### Example Instances"
   ]
  },
  {
   "cell_type": "code",
   "execution_count": null,
   "id": "46fa8456",
   "metadata": {
    "cq.autogen": "IntEffect.int_effect"
   },
   "outputs": [],
   "source": [
    "int_effect = IntEffect(55, bitsize=8)"
   ]
  },
  {
   "cell_type": "markdown",
   "id": "5581465d",
   "metadata": {
    "cq.autogen": "IntEffect.graphical_signature.md"
   },
   "source": [
    "#### Graphical Signature"
   ]
  },
  {
   "cell_type": "code",
   "execution_count": null,
   "id": "bf1426a0",
   "metadata": {
    "cq.autogen": "IntEffect.graphical_signature.py"
   },
   "outputs": [],
   "source": [
    "from qualtran.drawing import show_bloqs\n",
    "show_bloqs([int_effect],\n",
    "           ['`int_effect`'])"
   ]
  },
  {
   "cell_type": "markdown",
   "id": "19821a22",
   "metadata": {
    "cq.autogen": "IntEffect.call_graph.md"
   },
   "source": [
    "### Call Graph"
   ]
  },
  {
   "cell_type": "code",
   "execution_count": null,
   "id": "de2f05d0",
   "metadata": {
    "cq.autogen": "IntEffect.call_graph.py"
   },
   "outputs": [],
   "source": [
    "from qualtran.resource_counting.generalizers import ignore_split_join\n",
    "int_effect_g, int_effect_sigma = int_effect.call_graph(max_depth=1, generalizer=ignore_split_join)\n",
    "show_call_graph(int_effect_g)\n",
    "show_counts_sigma(int_effect_sigma)"
   ]
  }
 ],
 "metadata": {
  "kernelspec": {
   "display_name": "Python 3 (ipykernel)",
   "language": "python",
   "name": "python3"
  },
  "language_info": {
   "codemirror_mode": {
    "name": "ipython",
    "version": 3
   },
   "file_extension": ".py",
   "mimetype": "text/x-python",
   "name": "python",
   "nbconvert_exporter": "python",
   "pygments_lexer": "ipython3",
   "version": "3.11.8"
  }
 },
 "nbformat": 4,
 "nbformat_minor": 5
}
