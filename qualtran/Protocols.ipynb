{
 "cells": [
  {
   "cell_type": "markdown",
   "id": "a3bea287",
   "metadata": {},
   "source": [
    "# Protocols\n",
    "\n",
    "We cannot (yet) run the resource-intensive but largest-speedup quantum algorithms we designed the Qualtran data structures to represent. Nevertheless, research into quantum algorithms, compiling, and resource estimation is a dynamic and productive field. In Qualtran, we write bloqs to be able to derive useful properties, aid comprehension with diagrams, and check correctness of algorithms and subroutines. \n",
    "In short: we write bloqs so we can do things with them!\n",
    "\n",
    "We use the term \"protocol\" to refer to a collection of methods, data, and functions to analyze or extend a property of a bloq.\n",
    " \n",
    "## Components of a protocol\n",
    "Specifically, a protocol is composed of:\n",
    "\n",
    " - A method on `Bloq` that takes no arguments and returns a property of interest. This is the **interface**\n",
    " - A method on `Bloq` that takes system-supplied arguments which bloq authors can override to provide information for the protocol. This is the **implementation**.\n",
    " - A Python module containing functions for plumbing the implementation into the interface and other **additional functionality**.\n",
    " - Helper functions for implementing one protocol in terms of another called **fallbacks**. Some protocols have a **default fallback** that requires no special action from the bloq author."
   ]
  },
  {
   "cell_type": "markdown",
   "id": "6273086c-1af3-419a-8e64-4b6f28719416",
   "metadata": {},
   "source": [
    "## T Count\n",
    "\n",
    "\n",
    "One of the essential queries of an algorithm is how much it costs. One cost is time, which is set by the number of \"expensive\" gates we need to perform. In surface codes the expensive thing is T count. \n",
    "\n",
    "... and counting in general ..."
   ]
  },
  {
   "cell_type": "markdown",
   "id": "059f3125-1839-4130-aeb2-0cfa54c273ee",
   "metadata": {},
   "source": [
    "## Qubit Count\n",
    "\n",
    "The second thing is counting qubits."
   ]
  },
  {
   "cell_type": "markdown",
   "id": "1e356672",
   "metadata": {},
   "source": [
    "## Decomposition\n",
    "\n",
    "In the other section, we talked about decomposition. This is also a protocol. This doesn't have a default fallback, so the author must provide it. But this is still optional. It unlocks the derivation of a lot of other quantities.\n",
    "\n",
    "### Interface\n",
    "You can get a decomposition of a bloq in terms of its component bloqs by calling `bloq.decompose_bloq()`. Additional functionality is provided by the `qualtran.BloqBuilder` class. \n",
    "\n",
    "### Implementation\n",
    "\n",
    "To implement this protocol, bloq authors can override `Bloq.build_composite_bloq(...)`.\n",
    "\n",
    "### Fallbacks\n",
    "\n",
    "There is no default implementation; `qualtran.DecomposeNotImplementedError` will be raised.\n",
    "`qualtran.cirq_interop.decompose_from_cirq_style_method` can be used as a fallback."
   ]
  },
  {
   "cell_type": "markdown",
   "id": "26313128",
   "metadata": {},
   "source": [
    "## Call Graph\n",
    "\n",
    "An abbreviated form of the decomposition, the bloq author can just provide the direct callees of a bloq. This still lets a lot of the other things be derived.\n",
    "\n",
    "### Interface\n",
    "\n",
    "You can get a directed-acyclic graph representing the hierarchical decomposition of bloqs by calling `bloq.call_graph()` or direct callees with `bloq.bloq_counts()`. Additional functionality is contained in the `qualtran.resource_counting` module. \n",
    "\n",
    "### Implementation\n",
    "To implement this protocol, bloq authors can override `Bloq.build_call_graph(...)`.\n",
    "\n",
    "\n",
    "### Fallbacks\n",
    "The default fallback uses the decomposition protocol and `build_cbloq_call_graph(...)`. See the full [call graph protocol documentation](./resource_counting/bloq_counts.ipynb) for details."
   ]
  },
  {
   "cell_type": "markdown",
   "id": "dc9e374c",
   "metadata": {},
   "source": [
    "## Tensor\n",
    "\n",
    "You can get a tensor (i.e. vector or matrix representation) of a bloq or composite bloq by calling `bloq.tensor_contract()`. Additional functionality is contained in the `qualtran.simulation.tensor` module. To implement this protocol, bloq authors can override `Bloq.add_my_tensors(...)`. The default fallback uses the decomposition protocol and `cbloq_as_contracted_tensor(...)`. See the full [tensor protocol documentation](./simulation/tensor.ipynb) for details."
   ]
  },
  {
   "cell_type": "markdown",
   "id": "5f13bbd6",
   "metadata": {},
   "source": [
    "## Classical\n",
    "\n",
    "You can get a bloq's classical action on a basis state by calling `bloq.call_classically(**vals)`. Additional functionality is contained in the `qualtran.simulation.classical_sim` module. To implement this protocol, bloq authors can override `Bloq.on_classical_vals(...)`. The default fallback uses the decomposition protocol and `cbloq_call_classically`. An exception should be raised if a bloq acts non-classically on its data."
   ]
  },
  {
   "cell_type": "markdown",
   "id": "055b2fad-eb33-4f66-a9f4-5234bea67063",
   "metadata": {},
   "source": [
    "## Controlled\n",
    "\n",
    "..."
   ]
  },
  {
   "cell_type": "markdown",
   "id": "48a79d85-3c4d-4310-8a45-06056c44e96b",
   "metadata": {},
   "source": [
    "## Adjoint\n",
    "\n",
    "..."
   ]
  },
  {
   "cell_type": "markdown",
   "id": "208624b5-4c2f-4656-8c2d-6260a40ef9e9",
   "metadata": {},
   "source": [
    "## Circuit Diagrams\n",
    "\n",
    "Bloq can control how it appears."
   ]
  },
  {
   "cell_type": "markdown",
   "id": "a3782337",
   "metadata": {},
   "source": [
    "## Other methods\n",
    "\n",
    "Other methods on `Bloq` can be called or overridden to support drawing or interoperability with Cirq."
   ]
  }
 ],
 "metadata": {
  "kernelspec": {
   "display_name": "Python 3 (ipykernel)",
   "language": "python",
   "name": "python3"
  },
  "language_info": {
   "codemirror_mode": {
    "name": "ipython",
    "version": 3
   },
   "file_extension": ".py",
   "mimetype": "text/x-python",
   "name": "python",
   "nbconvert_exporter": "python",
   "pygments_lexer": "ipython3",
   "version": "3.11.7"
  }
 },
 "nbformat": 4,
 "nbformat_minor": 5
}
