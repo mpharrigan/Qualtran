{
 "cells": [
  {
   "cell_type": "markdown",
   "id": "01432ffe",
   "metadata": {},
   "source": [
    "# Controlled Bloq\n",
    "\n",
    "`ControlledBloq(subbloq)` represents a controlled version of `subbloq`. Its decompose method will call `subbloq`'s decompose and wrap each of the child bloqs in `ControlledBloq`."
   ]
  },
  {
   "cell_type": "code",
   "execution_count": null,
   "id": "20fa916c",
   "metadata": {},
   "outputs": [],
   "source": [
    "from qualtran.drawing import show_bloq, get_musical_score_data, draw_musical_score"
   ]
  },
  {
   "cell_type": "code",
   "execution_count": null,
   "id": "543d14f3",
   "metadata": {},
   "outputs": [],
   "source": [
    "from qualtran._infra.composite_bloq_test import Atom, TestSerialBloq, TestParallelBloq"
   ]
  },
  {
   "cell_type": "code",
   "execution_count": null,
   "id": "a1280c64",
   "metadata": {},
   "outputs": [],
   "source": [
    "show_bloq(Atom())"
   ]
  },
  {
   "cell_type": "code",
   "execution_count": null,
   "id": "fe4bd8a1",
   "metadata": {},
   "outputs": [],
   "source": [
    "from qualtran.bloqs.controlled_bloq import ControlledBloq\n",
    "\n",
    "bloq = ControlledBloq(subbloq=Atom())\n",
    "show_bloq(bloq)"
   ]
  },
  {
   "cell_type": "code",
   "execution_count": null,
   "id": "6e4b2a28",
   "metadata": {},
   "outputs": [],
   "source": [
    "from qualtran import ControlRegister\n",
    "\n",
    "bloq = ControlledBloq(subbloq=Atom(), creg=ControlRegister(\"control\", 1))\n",
    "show_bloq(bloq)"
   ]
  },
  {
   "cell_type": "code",
   "execution_count": null,
   "id": "7071bf8f",
   "metadata": {},
   "outputs": [],
   "source": [
    "bloq = Atom().controlled(ControlRegister(\"control\", 5))\n",
    "show_bloq(bloq)"
   ]
  },
  {
   "cell_type": "markdown",
   "id": "ac480d71",
   "metadata": {},
   "source": [
    "### Controlled Serial Bloq"
   ]
  },
  {
   "cell_type": "code",
   "execution_count": null,
   "id": "88590878",
   "metadata": {},
   "outputs": [],
   "source": [
    "cserial = ControlledBloq(subbloq=TestSerialBloq(), creg=ControlRegister(\"control\", 2))\n",
    "show_bloq(cserial.decompose_bloq())"
   ]
  },
  {
   "cell_type": "code",
   "execution_count": null,
   "id": "4991519f",
   "metadata": {},
   "outputs": [],
   "source": [
    "import qualtran.testing as qlt_testing\n",
    "_ = qlt_testing.assert_valid_bloq_decomposition(cserial)"
   ]
  },
  {
   "cell_type": "markdown",
   "id": "9f877006",
   "metadata": {},
   "source": [
    "### Controlled Parallel Bloq"
   ]
  },
  {
   "cell_type": "code",
   "execution_count": null,
   "id": "96b9fcee",
   "metadata": {},
   "outputs": [],
   "source": [
    "show_bloq(TestParallelBloq().decompose_bloq())"
   ]
  },
  {
   "cell_type": "code",
   "execution_count": null,
   "id": "79a72b6d",
   "metadata": {},
   "outputs": [],
   "source": [
    "cparallel = TestParallelBloq().controlled()\n",
    "show_bloq(cparallel.decompose_bloq())"
   ]
  },
  {
   "cell_type": "code",
   "execution_count": null,
   "id": "9ae55966",
   "metadata": {},
   "outputs": [],
   "source": [
    "fig, ax = draw_musical_score(get_musical_score_data(cparallel.decompose_bloq()))\n",
    "ax.axis('equal')"
   ]
  },
  {
   "cell_type": "code",
   "execution_count": null,
   "id": "85db54ae",
   "metadata": {},
   "outputs": [],
   "source": [
    "from qualtran.bloqs.basic_gates import XGate\n",
    "from qualtran.bloqs.on_each import OnEach"
   ]
  },
  {
   "cell_type": "code",
   "execution_count": null,
   "id": "0dd542ed",
   "metadata": {},
   "outputs": [],
   "source": [
    "b = OnEach(3, XGate()).controlled(ControlRegister(\"ctrl1\", 1)) #.controlled(ControlRegister(\"ctrl2\", 1))[0]\n",
    "fig, ax = draw_musical_score(get_musical_score_data(b.decompose_bloq()))\n",
    "ax.axis('equal')"
   ]
  },
  {
   "cell_type": "code",
   "execution_count": null,
   "id": "8315593f",
   "metadata": {},
   "outputs": [],
   "source": [
    "b = OnEach(3, XGate()).controlled(ControlRegister(\"ctrl1\", 1)).controlled(ControlRegister(\"ctrl2\", 1))\n",
    "fig, ax = draw_musical_score(get_musical_score_data(b.decompose_bloq()))\n",
    "ax.axis('equal')"
   ]
  },
  {
   "cell_type": "code",
   "execution_count": null,
   "id": "fd96dd86",
   "metadata": {},
   "outputs": [],
   "source": [
    "b = OnEach(3, XGate())\\\n",
    "    .controlled(ControlRegister(\"ctrl1\", 1))\\\n",
    "    .controlled(ControlRegister(\"ctrl2\", 1))\\\n",
    "    .controlled(ControlRegister(\"ctrl3\", 1))\n",
    "fig, ax = draw_musical_score(get_musical_score_data(b.decompose_bloq()))\n",
    "ax.axis('equal')"
   ]
  },
  {
   "cell_type": "code",
   "execution_count": null,
   "id": "ffffc503",
   "metadata": {},
   "outputs": [],
   "source": [
    "b = OnEach(3, XGate())\\\n",
    "    .controlled(ControlRegister(\"ctrl1\", 5))\\\n",
    "    .controlled(ControlRegister(\"ctrl2\", 1))\n",
    "\n",
    "show_bloq(b.decompose_bloq())\n",
    "\n",
    "fig, ax = draw_musical_score(get_musical_score_data(b.decompose_bloq()))\n",
    "ax.axis('equal')"
   ]
  }
 ],
 "metadata": {
  "kernelspec": {
   "display_name": "Python 3 (ipykernel)",
   "language": "python",
   "name": "python3"
  },
  "language_info": {
   "codemirror_mode": {
    "name": "ipython",
    "version": 3
   },
   "file_extension": ".py",
   "mimetype": "text/x-python",
   "name": "python",
   "nbconvert_exporter": "python",
   "pygments_lexer": "ipython3",
   "version": "3.10.9"
  }
 },
 "nbformat": 4,
 "nbformat_minor": 5
}
