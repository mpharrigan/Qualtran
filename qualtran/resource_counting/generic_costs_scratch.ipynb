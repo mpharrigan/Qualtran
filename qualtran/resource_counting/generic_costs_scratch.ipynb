{
 "cells": [
  {
   "cell_type": "markdown",
   "id": "a650c1ad",
   "metadata": {},
   "source": [
    "Each leaf bloq reports its \"leaf costs\". The costs are percolated up the DAG with simple recursion:\n",
    "\n",
    "```python\n",
    "def cost(caller):\n",
    "    # Base case: leaf bloq\n",
    "    if is_leaf(caller):\n",
    "        return caller.my_leaf_costs()\n",
    "    \n",
    "    # Recursive step: callees\n",
    "    return sum(n * cost(callee) for n, callee in caller.callees())\n",
    "```\n",
    "\n",
    "Note that we *only* query `bloq.leaf_costs()` when the bloq is an actual leaf. What if there is other information we want to annotate on bloqs that are not leaf bloqs? Like succeess probability or some sort of overhead? We add a method for including costs that should be added to the ones gleaned from recursion.\n",
    "\n",
    "```python\n",
    "    cost = sum(n * cost(callee) for n, callee in caller.callees())\n",
    "    cost += caller.my_static_costs()\n",
    "    return cost\n",
    "```\n",
    "\n",
    "I've been using addition and multiplication for convenience, but these operations depend on the cost value type. `+` should be considered a generic reduction step and `* n` should mean \"do that reduction `n` times\". For something like success probability, you'd use multiplication and power. For something like max qubit width, you'd use max and identity. Each type of cost also has to report its \"identity\" aka 0 value to make the reduction work.\n",
    "\n",
    "I've been using one cost value; but the `.my_leaf_costs()` and `.my_static_costs()` methods will return a list of `(costkey, costval)` tuples and all the operations should be done be joining on the `costkey` column. "
   ]
  },
  {
   "cell_type": "markdown",
   "id": "3258aaa1",
   "metadata": {},
   "source": [
    "-----"
   ]
  },
  {
   "cell_type": "markdown",
   "id": "38b53f2a",
   "metadata": {},
   "source": [
    "We want the source code to define a canonical call graph but we may want to muck with it for resource estimation purposes. For example: we already support stopping early by marking certain bloqs as leaf bloqs; and we support merging bloqs through the `generalizer`. \n",
    "\n",
    "Consider if we wanted to query either Total T Count or T+Tof count. With one \"costs\" method; you'd either never get the total T count or always get the total T count. If you did something really naive, you'd double-count the Ts from the toffoli decomposition. We need to be able to say that it costs *either* the sum of its callees *or* this fixed value of 1 toffoli.\n",
    "\n",
    "So in our design, we first build the call graph in the usual way and generalize and leaf-ify to our hearts content. We then use that online call graph to do the cost recursion which will intelligently dispatch to either the recursive costs or the leaf costs.\n",
    "\n",
    "A potential drawback is if you leafify something that doesn't explicitly specify its leaf costs, you may quietly miss some important costs. But it would be redundant to manually put in all the recursive costs in case that bloq is ever used as a leaf. The compromise solution is for the default leaf costs method to report that it takes 1 bloq-count of `self`. This prevents accidently ignoring a whole subtree of the call graph. But any of the non-bloq-count recursively-derived costs would be lost."
   ]
  },
  {
   "cell_type": "code",
   "execution_count": null,
   "id": "ffc45ce3",
   "metadata": {},
   "outputs": [],
   "source": [
    "from qualtran.drawing import show_bloq, show_call_graph\n",
    "\n",
    "%matplotlib inline\n",
    "from matplotlib import pyplot as plt"
   ]
  },
  {
   "cell_type": "code",
   "execution_count": null,
   "id": "06af1e63",
   "metadata": {},
   "outputs": [],
   "source": [
    "from qualtran.bloqs.for_testing.costing import CostingBloq, make_example_1\n",
    "cost_bloq = make_example_1()\n",
    "g, _ = cost_bloq.call_graph(keep=lambda b:b.name in ['TGate'])"
   ]
  },
  {
   "cell_type": "code",
   "execution_count": null,
   "id": "11086383",
   "metadata": {},
   "outputs": [],
   "source": [
    "show_call_graph(g)"
   ]
  },
  {
   "cell_type": "code",
   "execution_count": null,
   "id": "9eb3bdcc",
   "metadata": {},
   "outputs": [],
   "source": [
    "for bloq, data in g.nodes.data():\n",
    "    print(bloq,'\\t', data['costs'])"
   ]
  },
  {
   "cell_type": "code",
   "execution_count": null,
   "id": "25a54673",
   "metadata": {},
   "outputs": [],
   "source": [
    "from qualtran.resource_counting.bloq_counts import _sum_up_costs\n",
    "totals = _sum_up_costs(g)\n",
    "print('----------------\\n\\n')\n",
    "\n",
    "for bloq, costs in totals.items():\n",
    "    print(bloq)\n",
    "    for costkey, costval in costs.items():\n",
    "        print('  ', costkey, '\\t', costval)\n",
    "    print()"
   ]
  },
  {
   "cell_type": "code",
   "execution_count": null,
   "id": "8b044717",
   "metadata": {},
   "outputs": [],
   "source": [
    "from qualtran.drawing.bloq_counts_graph import GraphvizCounts\n",
    "\n",
    "class CostGraphviz(GraphvizCounts):\n",
    "    def __init__(self, g, totals):\n",
    "        super().__init__(g)\n",
    "        self.totals = totals\n",
    "    \n",
    "    \n",
    "    def get_node_properties(self, b):\n",
    "        label = ['<']\n",
    "        label += ['<font point-size=\"10\">']\n",
    "        label += ['<table border=\"0\" cellborder=\"1\" cellspacing=\"0\" cellpadding=\"5\">\\n']\n",
    "        label += [f'<tr><td colspan=\"2\"><font point-size=\"12\">{b.name}(nq={b.num_qubits})</font></td></tr>\\n']\n",
    "        \n",
    "        for cost, costval in self.totals[b].items():\n",
    "            label += [f'<tr><td>{cost}</td><td>{costval}</td></tr>']\n",
    "        \n",
    "        label += ['</table></font>']\n",
    "        label += ['>']\n",
    "        return {'label': ''.join(label), 'shape': 'plaintext'}\n",
    "    \n",
    "    \n",
    "CostGraphviz(g, totals).get_svg()"
   ]
  }
 ],
 "metadata": {
  "kernelspec": {
   "display_name": "Python 3 (ipykernel)",
   "language": "python",
   "name": "python3"
  },
  "language_info": {
   "codemirror_mode": {
    "name": "ipython",
    "version": 3
   },
   "file_extension": ".py",
   "mimetype": "text/x-python",
   "name": "python",
   "nbconvert_exporter": "python",
   "pygments_lexer": "ipython3",
   "version": "3.10.9"
  }
 },
 "nbformat": 4,
 "nbformat_minor": 5
}
