{
 "cells": [
  {
   "cell_type": "markdown",
   "id": "d4d7bfac-b2c7-414e-921e-92da858fe216",
   "metadata": {},
   "source": [
    "# Costs\n",
    "\n",
    "We cannot (yet) run the large ('fault-tolerant scale') quantum algorithms expressed in Qualtran. Instead, a major research goal is to estimate the resources required to implement interesting quantum algorithms. Resources can be time, qubits, T gates, precision, depth, or any number of things. Throughout Qualtran, we use the less ambiguous term \"costs\" to represent these quantities.\n",
    "\n",
    "In the research literature, there is a surface level agreement on what costs to count: Often gate counts of T, Toffoli, Clifford, and Rotation; as well as the number of qubits are tabulated as the most probable limiting factors of implementing these algorithms on real quantum computers. When it comes to details, agreement on costs is not guaranteed. Researchers may want to consider additional target gatesets or architectures; disagree on how to lump or count cliffords of various sizes; and treat rotations in a variety of ways.\n",
    "\n",
    "In Qualtran, we provide a set of configurable `CostKey`s that can be used to query algorithms expressed as bloqs. Developers can also implement their own costs by overriding `CostKey` to provide even more customization."
   ]
  },
  {
   "cell_type": "markdown",
   "id": "42306c58-584f-4b85-89e7-9a64a1398a64",
   "metadata": {},
   "source": [
    "## Getting costs\n",
    "\n",
    "The following functions can be used to query costs for a bloq. Each takes a bloq and a cost key:\n",
    "\n",
    " - `get_cost_value`\n",
    " - `get_cost_cache`\n",
    "\n",
    "The former will return a single value whereas the latter will return a dictionary mapping every bloq for which a cost was computed to its value.\n",
    "\n",
    "Before we start, we'll create an example bloq with enough complexity to be interesting:"
   ]
  },
  {
   "cell_type": "code",
   "execution_count": null,
   "id": "0e4801d3-2e55-4c0a-a113-5d6c9263f0e4",
   "metadata": {},
   "outputs": [],
   "source": [
    "# Construct a PrepTHC bloq for demonstration purposes.\n",
    "\n",
    "import numpy as np\n",
    "from qualtran.bloqs.chemistry.thc import PrepareTHC\n",
    "\n",
    "\n",
    "num_spin_orb = 25\n",
    "num_mu = 100\n",
    "t_l = np.random.normal(0, 1, size=num_spin_orb//2)\n",
    "zeta = np.random.normal(0, 1, size=(num_mu, num_mu))\n",
    "zeta = 0.5 * (zeta + zeta.T)\n",
    "\n",
    "prep_thc = PrepareTHC.from_hamiltonian_coeffs(t_l, zeta, num_bits_state_prep=10)"
   ]
  },
  {
   "cell_type": "markdown",
   "id": "b0023aa8-7cfe-4f22-8625-e6bbe509c721",
   "metadata": {},
   "source": [
    "`get_cost_value` takes a `Bloq` and a `CostKey` and returns a value. The type of value depends on the particular cost key. For example, if we ask for the qubit count by using the `QubitCount` cost key, we get an integer."
   ]
  },
  {
   "cell_type": "code",
   "execution_count": null,
   "id": "600e6e48-e888-4021-aecc-3fbc6b26ab6a",
   "metadata": {},
   "outputs": [],
   "source": [
    "from qualtran.resource_counting import get_cost_value, QubitCount\n",
    "\n",
    "get_cost_value(prep_thc, QubitCount())"
   ]
  },
  {
   "cell_type": "markdown",
   "id": "94920338-1145-4f81-8b30-c306c44f470a",
   "metadata": {},
   "source": [
    "`get_cost_cache` has the same input arguments, but instead returns a dictionary containing the (sub-)costs for each bloq that was encountered during the recursive computation. In the following demo, we only print the top 5 entries to avoid overwhelming the output."
   ]
  },
  {
   "cell_type": "code",
   "execution_count": null,
   "id": "c077411d-8f4f-4aa1-b5a4-c3e8fca90e69",
   "metadata": {},
   "outputs": [],
   "source": [
    "from qualtran.resource_counting import get_cost_cache\n",
    "\n",
    "cost_cache = get_cost_cache(prep_thc, QubitCount())\n",
    "print(f'cost_cache contains {len(cost_cache)} entries. Displaying top five.\\n')\n",
    "\n",
    "top_five = sorted(cost_cache.items(), key=lambda x: x[1])[-5:]\n",
    "for bloq, val in top_five:\n",
    "    print(f'{bloq}: {val}')"
   ]
  },
  {
   "cell_type": "markdown",
   "id": "dd7c069d-3820-4a1b-95b4-326dbda87fce",
   "metadata": {},
   "source": [
    "## Configurable Cost Keys\n",
    "\n",
    "The behavior of a cost computation can be modified by arguments to the cost key. The `QubitCount()` cost is simple: it has no parameters and the value of the cost is a simple integer. `QECGatesCost` returns a richer cost value type and has more options for controlling the cost query."
   ]
  },
  {
   "cell_type": "code",
   "execution_count": null,
   "id": "e1963547-c294-4a0f-bb57-5e2239968eb4",
   "metadata": {},
   "outputs": [],
   "source": [
    "from qualtran.resource_counting import QECGatesCost\n",
    "\n",
    "get_cost_value(prep_thc, QECGatesCost())"
   ]
  },
  {
   "cell_type": "markdown",
   "id": "68bfe8db-e5f2-41ac-bf7d-26f38022eb67",
   "metadata": {},
   "source": [
    "Here, we can see that the output is a `GateCounts` data class that tallys up the number of T, Toffoli, CSwap (aka Fredkin), AND, and Clifford Gates. We can provide additional configuration to count things differently."
   ]
  },
  {
   "cell_type": "code",
   "execution_count": null,
   "id": "9ff68d5f-5a78-4c46-ac69-eb738c083af5",
   "metadata": {},
   "outputs": [],
   "source": [
    "t_cost = QECGatesCost(ts_per_toffoli=4, ts_per_cswap=7, ts_per_and=4)\n",
    "get_cost_value(prep_thc, QECGatesCost(ts_per_toffoli=4, ts_per_cswap=7, ts_per_and=4))"
   ]
  },
  {
   "cell_type": "markdown",
   "id": "ecfbf912-fae9-4dd9-a6d3-a8bf1532e084",
   "metadata": {},
   "source": [
    "Now, the result is entirely in terms of T gate counts."
   ]
  },
  {
   "cell_type": "markdown",
   "id": "a375c726-4a97-4640-9ced-d7a1bcb700a4",
   "metadata": {},
   "source": [
    "## Querying Multiple Costs\n",
    "\n",
    "The `query_costs` function will get multiple costs for multiple bloqs simultaneously. Its output is suitable for annotating a call graph diagram"
   ]
  },
  {
   "cell_type": "code",
   "execution_count": null,
   "id": "20a95e27-9b69-459f-9f39-56a98ec3ad67",
   "metadata": {},
   "outputs": [],
   "source": [
    "from qualtran.resource_counting import query_costs\n",
    "\n",
    "from qualtran.drawing import GraphvizCallGraph\n",
    "from qualtran.resource_counting.generalizers import ignore_split_join, ignore_alloc_free\n",
    "\n",
    "costs = query_costs(prep_thc, [t_cost, QubitCount()])\n",
    "g, _ = prep_thc.call_graph(max_depth=3, generalizer=[ignore_split_join, ignore_alloc_free])\n",
    "\n",
    "GraphvizCallGraph(g, costs).get_svg()"
   ]
  }
 ],
 "metadata": {
  "kernelspec": {
   "display_name": "Python 3 (ipykernel)",
   "language": "python",
   "name": "python3"
  },
  "language_info": {
   "codemirror_mode": {
    "name": "ipython",
    "version": 3
   },
   "file_extension": ".py",
   "mimetype": "text/x-python",
   "name": "python",
   "nbconvert_exporter": "python",
   "pygments_lexer": "ipython3",
   "version": "3.11.7"
  }
 },
 "nbformat": 4,
 "nbformat_minor": 5
}
