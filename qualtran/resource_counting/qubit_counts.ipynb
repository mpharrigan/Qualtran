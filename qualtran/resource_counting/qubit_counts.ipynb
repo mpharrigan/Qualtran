{
 "cells": [
  {
   "cell_type": "markdown",
   "id": "c3a2e0b1-d7f3-4761-aaf7-9fe1b4202c63",
   "metadata": {},
   "source": [
    "# Qubit Counts\n",
    "\n",
    "The number of qubits is an important cost for running a quantum algorithm. The provided `QubitCounts()` cost key can efficiently estimate the qubit count of even large-scale algorithms by exploiting the hierarchical structure of bloq decomposition.\n",
    "\n",
    "\n",
    "The number of qubits is bounded from below by the number of qubits implied by the signature.\n",
    "If a bloq has no callees, the size implied by the signature will be returned. Otherwise,\n",
    "`QubitCounts()` will try to compute the number of qubits by inspecting the decomposition.\n",
    "\n",
    "In the decomposition, each (sub)bloq is considered to be executed sequentially. The \"width\"\n",
    "of the circuit (i.e. the number of qubits) at each sequence point is the number of qubits\n",
    "required by the subbloq (computed recursively) plus any \"bystander\" idling wires.\n",
    "\n",
    "This is an estimate for the number of qubits required by an algorithm. Specifically:\n",
    " - Bloqs are assumed to be executed sequentially, minimizing the number of qubits potentially\n",
    "   at the expense of greater circuit depth or execution time.\n",
    " - We do not consider \"tetris-ing\" subbloqs. In a decomposition, each subbloq is assumed\n",
    "   to be using all of its qubits for the duration of its execution. This could potentially\n",
    "   overestimate the total number of qubits.\n",
    "\n",
    "This Min-Max style estimate can provide a good balance between accuracy and scalability\n",
    "of the accounting. To fully account for each qubit and manage space-vs-time trade-offs,\n",
    "you must comprehensively decompose your algorithm to a `cirq.Circuit` of basic gates and\n",
    "use a `cirq.QubitManager` to manage trade-offs. This may be computationally expensive for\n",
    "large algorithms."
   ]
  },
  {
   "cell_type": "code",
   "execution_count": null,
   "id": "ddb82393-8bb0-42d1-9b84-6b3e22455f7e",
   "metadata": {},
   "outputs": [],
   "source": [
    "import sympy\n",
    "\n",
    "from qualtran.drawing import show_bloq\n",
    "\n",
    "from qualtran.bloqs.for_testing.interior_alloc import InteriorAlloc\n",
    "from qualtran.resource_counting import get_cost_value, query_costs, QubitCount"
   ]
  },
  {
   "cell_type": "markdown",
   "id": "58f0823f-f76f-4adb-8f2a-a25d1e2ee070",
   "metadata": {},
   "source": [
    "For illustrative purposes, we use a bloq that has two $n$ bit registers, but allocates an additional $n$ bit register as part of its decomposition. Looking purely at the signature, you would conclude that the bloq uses $2n$ qubits; but by looking at the decomposition we can see that at its maximum circuit width it uses $3n$ qubits. "
   ]
  },
  {
   "cell_type": "code",
   "execution_count": null,
   "id": "2a5768b5-7f2e-4851-bc15-3be8a66df4f5",
   "metadata": {},
   "outputs": [],
   "source": [
    "n = sympy.Symbol('n', positive=True, integer=True)\n",
    "bloq = InteriorAlloc(n=n)\n",
    "show_bloq(bloq)\n",
    "show_bloq(bloq.decompose_bloq(), 'musical_score')"
   ]
  },
  {
   "cell_type": "code",
   "execution_count": null,
   "id": "329c02d8-35b0-4ed8-881b-0bb5e6856813",
   "metadata": {},
   "outputs": [],
   "source": [
    "get_cost_value(bloq, QubitCount())"
   ]
  },
  {
   "cell_type": "code",
   "execution_count": null,
   "id": "21a84a95-1ed6-4ce1-8c43-512621efdbdf",
   "metadata": {},
   "outputs": [],
   "source": [
    "from qualtran.drawing import GraphvizCallGraph\n",
    "\n",
    "g, _ = bloq.call_graph()\n",
    "costs = query_costs(bloq, [QubitCount()])\n",
    "GraphvizCallGraph(g, costs).get_svg()"
   ]
  },
  {
   "cell_type": "code",
   "execution_count": null,
   "id": "d4652f6f-890d-48e8-8d30-6de767eb4cfc",
   "metadata": {},
   "outputs": [],
   "source": []
  },
  {
   "cell_type": "code",
   "execution_count": null,
   "id": "d92834a0-b4a2-4e62-ba0e-8e3ef5983af3",
   "metadata": {},
   "outputs": [],
   "source": [
    "from qualtran.bloqs.state_preparation import PrepareUniformSuperposition\n",
    "from qualtran.resource_counting import get_cost_value, QubitCount\n",
    "from qualtran.drawing import show_bloqs\n",
    "\n",
    "bloq = PrepareUniformSuperposition(n=3,cvs=(1,))\n",
    "cbloq = bloq.decompose_bloq()\n",
    "cbloq_flat = cbloq.flatten()\n",
    "print(get_cost_value(bloq, QubitCount()))\n",
    "print(get_cost_value(cbloq, QubitCount()))\n",
    "print(get_cost_value(cbloq_flat, QubitCount()))\n",
    "show_bloq(bloq, 'musical_score')\n",
    "show_bloq(cbloq, 'musical_score')\n",
    "show_bloq(cbloq_flat, 'musical_score')"
   ]
  },
  {
   "cell_type": "code",
   "execution_count": null,
   "id": "7717d689-762f-4027-aa16-69ea20a75f26",
   "metadata": {},
   "outputs": [],
   "source": [
    "from qualtran.drawing import get_musical_score_data, draw_musical_score\n",
    "draw_musical_score(get_musical_score_data(cbloq_flat), max_width=100)"
   ]
  },
  {
   "cell_type": "code",
   "execution_count": null,
   "id": "58456757-fce0-4faa-8a6c-da54cf077295",
   "metadata": {},
   "outputs": [],
   "source": [
    "from qualtran.resource_counting._qubit_counts import _cbloq_max_width"
   ]
  },
  {
   "cell_type": "code",
   "execution_count": null,
   "id": "c8f05080-e1bb-4ef0-9358-643ba6db9e0f",
   "metadata": {},
   "outputs": [],
   "source": [
    "_cbloq_max_width(cbloq_flat._binst_graph)"
   ]
  },
  {
   "cell_type": "code",
   "execution_count": null,
   "id": "3a1f9320-d21f-4461-8b9e-0d66b4af7f0a",
   "metadata": {},
   "outputs": [],
   "source": [
    "from qualtran.resource_counting import get_bloq_callee_counts\n",
    "get_bloq_callee_counts(cbloq_flat)"
   ]
  },
  {
   "cell_type": "code",
   "execution_count": null,
   "id": "12e65a48-881d-4820-9ab2-29fe45ba6b3f",
   "metadata": {},
   "outputs": [],
   "source": []
  }
 ],
 "metadata": {
  "kernelspec": {
   "display_name": "Python 3 (ipykernel)",
   "language": "python",
   "name": "python3"
  },
  "language_info": {
   "codemirror_mode": {
    "name": "ipython",
    "version": 3
   },
   "file_extension": ".py",
   "mimetype": "text/x-python",
   "name": "python",
   "nbconvert_exporter": "python",
   "pygments_lexer": "ipython3",
   "version": "3.11.8"
  }
 },
 "nbformat": 4,
 "nbformat_minor": 5
}
