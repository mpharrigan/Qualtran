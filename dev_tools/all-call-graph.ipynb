{
 "cells": [
  {
   "cell_type": "markdown",
   "id": "9a9335f1",
   "metadata": {},
   "source": [
    "# All Call Graph"
   ]
  },
  {
   "cell_type": "code",
   "execution_count": null,
   "id": "21912264",
   "metadata": {},
   "outputs": [],
   "source": [
    "import networkx as nx\n",
    "\n",
    "from qualtran_dev_tools.bloq_finder import get_bloq_examples, get_bloq_classes\n",
    "from qualtran_dev_tools.all_call_graph import get_all_call_graph, call_graph_to_class_graph, ClassGraphGraphviz\n",
    "\n",
    "from qualtran.drawing import show_call_graph\n",
    "from IPython.display import SVG, display, HTML"
   ]
  },
  {
   "cell_type": "code",
   "execution_count": null,
   "id": "acd0c83d",
   "metadata": {},
   "outputs": [],
   "source": [
    "bes = get_bloq_examples()"
   ]
  },
  {
   "cell_type": "code",
   "execution_count": null,
   "id": "f3e7c09a",
   "metadata": {},
   "outputs": [],
   "source": [
    "g = get_all_call_graph(bes)\n",
    "\n",
    "from qualtran.bloqs.basic_gates import TGate, Toffoli\n",
    "\n",
    "g.remove_nodes_from([TGate(), Toffoli()])"
   ]
  },
  {
   "cell_type": "code",
   "execution_count": null,
   "id": "4a538c0d",
   "metadata": {
    "scrolled": true
   },
   "outputs": [],
   "source": [
    "leafs = []\n",
    "heads = []\n",
    "for bloq in nx.topological_sort(g):\n",
    "    if not g.succ[bloq]:\n",
    "        leafs.append(bloq)\n",
    "        continue\n",
    "    if not g.pred[bloq]:\n",
    "        heads.append(bloq)\n",
    "    subg = nx.subgraph(g, {bloq} | set(g.successors(bloq)))\n",
    "    show_call_graph(subg)\n",
    "    display(HTML('<hr/>'))"
   ]
  },
  {
   "cell_type": "code",
   "execution_count": null,
   "id": "71920085",
   "metadata": {
    "scrolled": true
   },
   "outputs": [],
   "source": [
    "for leaf in leafs:\n",
    "    print(leaf.pretty_name())"
   ]
  },
  {
   "cell_type": "code",
   "execution_count": null,
   "id": "25594ef4",
   "metadata": {
    "scrolled": false
   },
   "outputs": [],
   "source": [
    "for head in heads:\n",
    "    subg = nx.subgraph(g, {head} | set(nx.descendants(g, head)))\n",
    "    show_call_graph(subg)\n",
    "    display(HTML('<hr/>'))\n",
    "    "
   ]
  },
  {
   "cell_type": "code",
   "execution_count": null,
   "id": "554837ed",
   "metadata": {},
   "outputs": [],
   "source": [
    "import base64\n",
    "_html_template='<img width=\"{}\" src=\"data:image/svg+xml;base64,{}\" >'\n",
    "\n",
    "def svg_to_fixed_width_html_image(svg, width=\"100%\"):\n",
    "    text = _html_template.format(width, base64.b64encode(svg).decode())\n",
    "    return HTML(text)"
   ]
  },
  {
   "cell_type": "code",
   "execution_count": null,
   "id": "cdcdcdc1",
   "metadata": {
    "scrolled": false
   },
   "outputs": [],
   "source": [
    "from qualtran.drawing import GraphvizCounts\n",
    "svg_to_fixed_width_html_image(GraphvizCounts(g).get_svg_bytes(), width=\"200%\")"
   ]
  },
  {
   "cell_type": "code",
   "execution_count": null,
   "id": "045dce44",
   "metadata": {},
   "outputs": [],
   "source": [
    "for x in nx.simple_cycles(g):\n",
    "    print(x)"
   ]
  },
  {
   "cell_type": "code",
   "execution_count": null,
   "id": "a26a01a5",
   "metadata": {},
   "outputs": [],
   "source": [
    "# with open('all-call.svg', 'wb') as f:\n",
    "#     f.write(GraphvizCounts(g).get_svg_bytes())"
   ]
  },
  {
   "cell_type": "code",
   "execution_count": null,
   "id": "74eabb86",
   "metadata": {},
   "outputs": [],
   "source": [
    "# import pydot\n",
    "# def get_graph(self):\n",
    "#     \"\"\"Get the pydot graph.\"\"\"\n",
    "#     graph = pydot.Dot('classes', graph_type='digraph', rankdir='TB', ranksep=0.8)\n",
    "#     self.add_nodes(graph)\n",
    "#     self.add_edges(graph)\n",
    "#     return graph\n",
    "# ClassGraphGraphviz.get_graph = get_graph"
   ]
  },
  {
   "cell_type": "code",
   "execution_count": null,
   "id": "3e9a2cd0",
   "metadata": {
    "scrolled": false
   },
   "outputs": [],
   "source": [
    "g2 = call_graph_to_class_graph(g)\n",
    "for x in nx.simple_cycles(g2):\n",
    "    print(x)\n",
    "svg_to_fixed_width_html_image(ClassGraphGraphviz(g2).get_svg_bytes(), width=\"200%\")"
   ]
  },
  {
   "cell_type": "code",
   "execution_count": null,
   "id": "6880759f",
   "metadata": {},
   "outputs": [],
   "source": [
    "# with open('class-graph.svg', 'wb') as f:\n",
    "#     f.write(ClassGraphGraphviz(g2).get_svg_bytes())"
   ]
  },
  {
   "cell_type": "code",
   "execution_count": null,
   "id": "83f6b5b1",
   "metadata": {},
   "outputs": [],
   "source": [
    "g3 = nx.subgraph(g2, max(nx.weakly_connected_components(g2), key=len))\n",
    "ClassGraphGraphviz(g3).get_svg()"
   ]
  },
  {
   "cell_type": "code",
   "execution_count": null,
   "id": "f4779eb3",
   "metadata": {},
   "outputs": [],
   "source": [
    "bcls = get_bloq_classes()"
   ]
  },
  {
   "cell_type": "code",
   "execution_count": null,
   "id": "818a1fcd",
   "metadata": {
    "scrolled": false
   },
   "outputs": [],
   "source": [
    "import pandas as pd\n",
    "\n",
    "records = []\n",
    "for bcl in bcls:\n",
    "    records += [{\n",
    "        'bloq_cls': bcl.__name__,\n",
    "        'exists': bcl in g2.nodes,\n",
    "        'connected': bcl in g3.nodes,\n",
    "    }]\n",
    "\n",
    "df = pd.DataFrame(records)\n",
    "\n",
    "def colors(x):\n",
    "    if x:\n",
    "        return 'background-color: lightgreen'\n",
    "    return 'background-color:pink'\n",
    "\n",
    "df.style.applymap(colors, ['exists', 'connected'])"
   ]
  }
 ],
 "metadata": {
  "kernelspec": {
   "display_name": "Python 3 (ipykernel)",
   "language": "python",
   "name": "python3"
  },
  "language_info": {
   "codemirror_mode": {
    "name": "ipython",
    "version": 3
   },
   "file_extension": ".py",
   "mimetype": "text/x-python",
   "name": "python",
   "nbconvert_exporter": "python",
   "pygments_lexer": "ipython3",
   "version": "3.10.9"
  }
 },
 "nbformat": 4,
 "nbformat_minor": 5
}
