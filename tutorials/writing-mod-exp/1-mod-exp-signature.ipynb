{
 "cells": [
  {
   "cell_type": "code",
   "execution_count": null,
   "id": "7419df48-4fde-4950-be13-bc08136b008d",
   "metadata": {},
   "outputs": [],
   "source": [
    "# Standard imports\n",
    "from typing import List, Dict, Set\n",
    "import attrs\n",
    "import sympy\n",
    "\n",
    "import qualtran.testing as qlt_testing\n",
    "from qualtran import (\n",
    "    Bloq, BloqBuilder,\n",
    "    QBit, QAny, QInt, QUInt,\n",
    "    Register, Side, Signature,\n",
    ")\n",
    "\n",
    "from qualtran.drawing import show_bloq"
   ]
  },
  {
   "cell_type": "code",
   "execution_count": null,
   "id": "c9f0dfe7-71c0-4d36-beb8-0dd794e13979",
   "metadata": {},
   "outputs": [],
   "source": [
    "@attrs.frozen  # Makes an immutable dataclass where class attributes are listed per below.\n",
    "class ModExp(Bloq):\n",
    "    \"\"\"Perform modular exponentiation `x = g^exponent mod p`.\n",
    "\n",
    "    x and exponent are quantum variables; g and the modulus are classical constants.\n",
    "\n",
    "    For simplicity, let's assume\n",
    "        - a 4-bit exponent register.\n",
    "        - a 32-bit \"x\" register.\n",
    "    \"\"\"\n",
    "\n",
    "    g: int\n",
    "    mod: int\n",
    "\n",
    "    @property\n",
    "    def signature(self) -> 'Signature':\n",
    "        return Signature([\n",
    "            # A bloq's signature is a list of its input and output registers.\n",
    "            # See the API reference docs for Signature and Register:\n",
    "            # https://qualtran.readthedocs.io/en/latest/reference/qualtran/Signature.html\n",
    "            # https://qualtran.readthedocs.io/en/latest/reference/qualtran/Register.html\n",
    "            #\n",
    "            # and fill in this method with the list of registers according to the bloq's docstring.\n",
    "        ])"
   ]
  },
  {
   "cell_type": "code",
   "execution_count": null,
   "id": "287b40b1-dd91-42eb-975d-eb3cfea20f5e",
   "metadata": {},
   "outputs": [],
   "source": [
    "mod_exp = ModExp(g=7, mod=15)\n",
    "show_bloq(mod_exp)"
   ]
  }
 ],
 "metadata": {
  "kernelspec": {
   "display_name": "Python 3 (ipykernel)",
   "language": "python",
   "name": "python3"
  },
  "language_info": {
   "codemirror_mode": {
    "name": "ipython",
    "version": 3
   },
   "file_extension": ".py",
   "mimetype": "text/x-python",
   "name": "python",
   "nbconvert_exporter": "python",
   "pygments_lexer": "ipython3",
   "version": "3.11.8"
  }
 },
 "nbformat": 4,
 "nbformat_minor": 5
}
