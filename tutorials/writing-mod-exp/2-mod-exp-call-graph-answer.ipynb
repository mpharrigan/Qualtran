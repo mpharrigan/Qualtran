{
 "cells": [
  {
   "cell_type": "code",
   "execution_count": 1,
   "id": "5fe9ee46-4e7b-47c3-858f-d7665ba469c0",
   "metadata": {},
   "outputs": [],
   "source": [
    "from typing import List, Dict, Set\n",
    "import attrs\n",
    "import sympy\n",
    "\n",
    "import qualtran.testing as qlt_testing\n",
    "from qualtran import (\n",
    "    Bloq, BloqBuilder,\n",
    "    QBit, QAny, QInt, QUInt,\n",
    "    Register, Side, Signature,\n",
    ")\n",
    "\n",
    "from qualtran.drawing import show_bloq"
   ]
  },
  {
   "cell_type": "code",
   "execution_count": 2,
   "id": "b1e610bf-1651-41aa-8fd0-d6b814c1c89d",
   "metadata": {},
   "outputs": [],
   "source": [
    "# new imports\n",
    "from qualtran.resource_counting import BloqCountT, SympySymbolAllocator\n",
    "from qualtran.symbolics import SymbolicInt\n",
    "from qualtran.drawing import show_call_graph"
   ]
  },
  {
   "cell_type": "code",
   "execution_count": 3,
   "id": "10933d5b-67fc-4ea6-8040-2ca158daceac",
   "metadata": {},
   "outputs": [],
   "source": [
    "@attrs.frozen\n",
    "class ModExp(Bloq):\n",
    "    \"\"\"Perform modular exponentiation `x = g^exponent mod p`.\n",
    "\n",
    "    x and exponent are quantum variables; g and the modulus are classical constants.\n",
    "\n",
    "    The exponent register has `n_exponent` bits.\n",
    "\n",
    "    For simplicity, let's assume\n",
    "        - a 32-bit \"x\" register.\n",
    "    \"\"\"\n",
    "\n",
    "    g: int\n",
    "    mod: int\n",
    "    # Change alert! `n_exponent` is now a class attribute.\n",
    "    n_exponent: SymbolicInt = 4\n",
    "\n",
    "    @property\n",
    "    def signature(self) -> 'Signature':\n",
    "        return Signature([\n",
    "            # Change alert! `n_exponent` now sets the size of the \"exponent\" register.\n",
    "            Register('exponent', QUInt(bitsize=self.n_exponent)),\n",
    "            Register('x', QUInt(bitsize=32))\n",
    "        ])\n",
    "\n",
    "    def build_call_graph(self, ssa: 'SympySymbolAllocator') -> Set['BloqCountT']:\n",
    "        # We can override this method to list the \"callees\" of this bloq without\n",
    "        # having to provide a full circuit construction.\n",
    "        #\n",
    "        # If we have an n-bit exponent register, we can do a modular exponentiation\n",
    "        # with `n` controlled modular multiplies.\n",
    "        #\n",
    "        # This method expects that you return a set of tuples (bloq, count) where bloq\n",
    "        # is a subbloq in this bloq's decomposition and count is the number of times it is called.\n",
    "        #\n",
    "        # See the API reference docs for Bloq.build_call_graph for details\n",
    "        # https://qualtran.readthedocs.io/en/latest/reference/qualtran/Bloq.html#build_call_graph\n",
    "\n",
    "        # Hint: you want the CtrlModMul bloq\n",
    "        from qualtran.bloqs.factoring import CtrlModMul\n",
    "        # https://qualtran.readthedocs.io/en/latest/bloqs/factoring/mod_mul.html\n",
    "\n",
    "        # ! ----------------------------\n",
    "        k = ssa.new_symbol('k')\n",
    "        return {\n",
    "            (CtrlModMul(k=k, mod=self.mod, bitsize=32), self.n_exponent)\n",
    "        }\n",
    "        # ! ----------------------------"
   ]
  },
  {
   "cell_type": "code",
   "execution_count": 4,
   "id": "30251ecd-86ba-4617-aea7-0588bddeb3fd",
   "metadata": {},
   "outputs": [
    {
     "data": {
      "image/svg+xml": [
       "<svg xmlns=\"http://www.w3.org/2000/svg\" xmlns:xlink=\"http://www.w3.org/1999/xlink\" width=\"174pt\" height=\"133pt\" viewBox=\"0.00 0.00 174.00 132.50\">\n",
       "<g id=\"graph0\" class=\"graph\" transform=\"scale(1 1) rotate(0) translate(4 128.5)\">\n",
       "<title>counts</title>\n",
       "<polygon fill=\"white\" stroke=\"none\" points=\"-4,4 -4,-128.5 170,-128.5 170,4 -4,4\"/>\n",
       "<!-- b0 -->\n",
       "<g id=\"node1\" class=\"node\">\n",
       "<title>b0</title>\n",
       "<polygon fill=\"none\" stroke=\"black\" points=\"166,-124.5 0,-124.5 0,-88.5 166,-88.5 166,-124.5\"/>\n",
       "<text text-anchor=\"start\" x=\"59\" y=\"-106.2\" font-family=\"Times,serif\" font-size=\"14.00\">ModExp</text>\n",
       "<text text-anchor=\"start\" x=\"8\" y=\"-96\" font-family=\"monospace\" font-size=\"10.00\">g=7, mod=15, n_exponent=4</text>\n",
       "</g>\n",
       "<!-- b1 -->\n",
       "<g id=\"node2\" class=\"node\">\n",
       "<title>b1</title>\n",
       "<polygon fill=\"none\" stroke=\"black\" points=\"166,-36 0,-36 0,0 166,0 166,-36\"/>\n",
       "<text text-anchor=\"start\" x=\"47.75\" y=\"-17.7\" font-family=\"Times,serif\" font-size=\"14.00\">CtrlModMul</text>\n",
       "<text text-anchor=\"start\" x=\"8\" y=\"-7.5\" font-family=\"monospace\" font-size=\"10.00\">k=_k0, mod=15, bitsize=32</text>\n",
       "</g>\n",
       "<!-- b0&#45;&gt;b1 -->\n",
       "<g id=\"edge1\" class=\"edge\">\n",
       "<title>b0-&gt;b1</title>\n",
       "<path fill=\"none\" stroke=\"black\" d=\"M83,-88.41C83,-76.76 83,-61.05 83,-47.52\"/>\n",
       "<polygon fill=\"black\" stroke=\"black\" points=\"86.5,-47.86 83,-37.86 79.5,-47.86 86.5,-47.86\"/>\n",
       "<text text-anchor=\"middle\" x=\"86.38\" y=\"-57.2\" font-family=\"Times,serif\" font-size=\"14.00\">4</text>\n",
       "</g>\n",
       "</g>\n",
       "</svg>"
      ],
      "text/plain": [
       "<IPython.core.display.SVG object>"
      ]
     },
     "metadata": {},
     "output_type": "display_data"
    }
   ],
   "source": [
    "m = ModExp(g=7, mod=15)\n",
    "graph, sigma = m.call_graph(max_depth=1)\n",
    "show_call_graph(graph)"
   ]
  },
  {
   "cell_type": "code",
   "execution_count": 5,
   "id": "37c9a337-d5b8-4329-b289-2c46051e16d2",
   "metadata": {},
   "outputs": [
    {
     "data": {
      "image/svg+xml": [
       "<svg xmlns=\"http://www.w3.org/2000/svg\" xmlns:xlink=\"http://www.w3.org/1999/xlink\" width=\"180pt\" height=\"133pt\" viewBox=\"0.00 0.00 180.00 132.50\">\n",
       "<g id=\"graph0\" class=\"graph\" transform=\"scale(1 1) rotate(0) translate(4 128.5)\">\n",
       "<title>counts</title>\n",
       "<polygon fill=\"white\" stroke=\"none\" points=\"-4,4 -4,-128.5 176,-128.5 176,4 -4,4\"/>\n",
       "<!-- b0 -->\n",
       "<g id=\"node1\" class=\"node\">\n",
       "<title>b0</title>\n",
       "<polygon fill=\"none\" stroke=\"black\" points=\"172,-124.5 0,-124.5 0,-88.5 172,-88.5 172,-124.5\"/>\n",
       "<text text-anchor=\"start\" x=\"62\" y=\"-106.2\" font-family=\"Times,serif\" font-size=\"14.00\">ModExp</text>\n",
       "<text text-anchor=\"start\" x=\"8\" y=\"-96\" font-family=\"monospace\" font-size=\"10.00\">g=g, mod=N, n_exponent=n_e</text>\n",
       "</g>\n",
       "<!-- b1 -->\n",
       "<g id=\"node2\" class=\"node\">\n",
       "<title>b1</title>\n",
       "<polygon fill=\"none\" stroke=\"black\" points=\"166,-36 6,-36 6,0 166,0 166,-36\"/>\n",
       "<text text-anchor=\"start\" x=\"50.75\" y=\"-17.7\" font-family=\"Times,serif\" font-size=\"14.00\">CtrlModMul</text>\n",
       "<text text-anchor=\"start\" x=\"14\" y=\"-7.5\" font-family=\"monospace\" font-size=\"10.00\">k=_k0, mod=N, bitsize=32</text>\n",
       "</g>\n",
       "<!-- b0&#45;&gt;b1 -->\n",
       "<g id=\"edge1\" class=\"edge\">\n",
       "<title>b0-&gt;b1</title>\n",
       "<path fill=\"none\" stroke=\"black\" d=\"M86,-88.41C86,-76.76 86,-61.05 86,-47.52\"/>\n",
       "<polygon fill=\"black\" stroke=\"black\" points=\"89.5,-47.86 86,-37.86 82.5,-47.86 89.5,-47.86\"/>\n",
       "<text text-anchor=\"middle\" x=\"91.25\" y=\"-57.2\" font-family=\"Times,serif\" font-size=\"14.00\">nₑ</text>\n",
       "</g>\n",
       "</g>\n",
       "</svg>"
      ],
      "text/plain": [
       "<IPython.core.display.SVG object>"
      ]
     },
     "metadata": {},
     "output_type": "display_data"
    }
   ],
   "source": [
    "g, N, n_e = sympy.symbols('g N n_e')\n",
    "m = ModExp(g=g, mod=N, n_exponent=n_e)\n",
    "graph, sigma = m.call_graph(max_depth=1)\n",
    "show_call_graph(graph)"
   ]
  }
 ],
 "metadata": {
  "kernelspec": {
   "display_name": "Python 3 (ipykernel)",
   "language": "python",
   "name": "python3"
  },
  "language_info": {
   "codemirror_mode": {
    "name": "ipython",
    "version": 3
   },
   "file_extension": ".py",
   "mimetype": "text/x-python",
   "name": "python",
   "nbconvert_exporter": "python",
   "pygments_lexer": "ipython3",
   "version": "3.11.8"
  }
 },
 "nbformat": 4,
 "nbformat_minor": 5
}
