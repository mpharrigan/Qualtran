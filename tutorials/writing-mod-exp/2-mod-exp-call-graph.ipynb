{
 "cells": [
  {
   "cell_type": "code",
   "execution_count": null,
   "id": "5fe9ee46-4e7b-47c3-858f-d7665ba469c0",
   "metadata": {},
   "outputs": [],
   "source": [
    "from typing import List, Dict, Set\n",
    "import attrs\n",
    "import sympy\n",
    "\n",
    "import qualtran.testing as qlt_testing\n",
    "from qualtran import (\n",
    "    Bloq, BloqBuilder,\n",
    "    QBit, QAny, QInt, QUInt,\n",
    "    Register, Side, Signature,\n",
    ")\n",
    "\n",
    "from qualtran.drawing import show_bloq"
   ]
  },
  {
   "cell_type": "code",
   "execution_count": null,
   "id": "b1e610bf-1651-41aa-8fd0-d6b814c1c89d",
   "metadata": {},
   "outputs": [],
   "source": [
    "# new imports\n",
    "from qualtran.resource_counting import BloqCountT, SympySymbolAllocator\n",
    "from qualtran.symbolics import SymbolicInt\n",
    "from qualtran.drawing import show_call_graph"
   ]
  },
  {
   "cell_type": "code",
   "execution_count": null,
   "id": "10933d5b-67fc-4ea6-8040-2ca158daceac",
   "metadata": {},
   "outputs": [],
   "source": [
    "@attrs.frozen\n",
    "class ModExp(Bloq):\n",
    "    \"\"\"Perform modular exponentiation `x = g^exponent mod p`.\n",
    "\n",
    "    x and exponent are quantum variables; g and the modulus are classical constants.\n",
    "\n",
    "    The exponent register has `n_exponent` bits.\n",
    "\n",
    "    For simplicity, let's assume\n",
    "        - a 32-bit \"x\" register.\n",
    "    \"\"\"\n",
    "\n",
    "    g: int\n",
    "    mod: int\n",
    "    # Change alert! `n_exponent` is now a class attribute.\n",
    "    n_exponent: SymbolicInt = 4\n",
    "\n",
    "    @property\n",
    "    def signature(self) -> 'Signature':\n",
    "        return Signature([\n",
    "            # Change alert! `n_exponent` now sets the size of the \"exponent\" register.\n",
    "            Register('exponent', QUInt(bitsize=self.n_exponent)),\n",
    "            Register('x', QUInt(bitsize=32))\n",
    "        ])\n",
    "\n",
    "    def build_call_graph(self, ssa: 'SympySymbolAllocator') -> Set['BloqCountT']:\n",
    "        # We can override this method to list the \"callees\" of this bloq without\n",
    "        # having to provide a full circuit construction.\n",
    "        #\n",
    "        # If we have an n-bit exponent register, we can do a modular exponentiation\n",
    "        # with `n` controlled modular multiplies.\n",
    "        #\n",
    "        # This method expects that you return a set of tuples (bloq, count) where bloq\n",
    "        # is a subbloq in this bloq's decomposition and count is the number of times it is called.\n",
    "        #\n",
    "        # See the API reference docs for Bloq.build_call_graph for details\n",
    "        # https://qualtran.readthedocs.io/en/latest/reference/qualtran/Bloq.html#build_call_graph\n",
    "\n",
    "        # Hint: you want the CtrlModMul bloq\n",
    "        from qualtran.bloqs.factoring import CtrlModMul\n",
    "        # https://qualtran.readthedocs.io/en/latest/bloqs/factoring/mod_mul.html\n",
    "\n",
    "        pass"
   ]
  },
  {
   "cell_type": "code",
   "execution_count": null,
   "id": "30251ecd-86ba-4617-aea7-0588bddeb3fd",
   "metadata": {},
   "outputs": [],
   "source": [
    "m = ModExp(g=7, mod=15)\n",
    "graph, sigma = m.call_graph(max_depth=1)\n",
    "show_call_graph(graph)"
   ]
  },
  {
   "cell_type": "code",
   "execution_count": null,
   "id": "37c9a337-d5b8-4329-b289-2c46051e16d2",
   "metadata": {},
   "outputs": [],
   "source": [
    "g, N, n_e = sympy.symbols('g N n_e')\n",
    "m = ModExp(g=g, mod=N, n_exponent=n_e)\n",
    "graph, sigma = m.call_graph(max_depth=1)\n",
    "show_call_graph(graph)"
   ]
  }
 ],
 "metadata": {
  "kernelspec": {
   "display_name": "Python 3 (ipykernel)",
   "language": "python",
   "name": "python3"
  },
  "language_info": {
   "codemirror_mode": {
    "name": "ipython",
    "version": 3
   },
   "file_extension": ".py",
   "mimetype": "text/x-python",
   "name": "python",
   "nbconvert_exporter": "python",
   "pygments_lexer": "ipython3",
   "version": "3.11.8"
  }
 },
 "nbformat": 4,
 "nbformat_minor": 5
}
