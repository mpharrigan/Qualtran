{
 "cells": [
  {
   "cell_type": "code",
   "execution_count": 1,
   "id": "7419df48-4fde-4950-be13-bc08136b008d",
   "metadata": {},
   "outputs": [],
   "source": [
    "# Standard imports\n",
    "from typing import List, Dict, Set\n",
    "import attrs\n",
    "import sympy\n",
    "\n",
    "import qualtran.testing as qlt_testing\n",
    "from qualtran import (\n",
    "    Bloq, BloqBuilder,\n",
    "    QBit, QAny, QInt, QUInt,\n",
    "    Register, Side, Signature,\n",
    ")\n",
    "\n",
    "from qualtran.drawing import show_bloq"
   ]
  },
  {
   "cell_type": "code",
   "execution_count": 2,
   "id": "c9f0dfe7-71c0-4d36-beb8-0dd794e13979",
   "metadata": {},
   "outputs": [],
   "source": [
    "@attrs.frozen  # Makes an immutable dataclass where class attributes are listed per below.\n",
    "class ModExp(Bloq):\n",
    "    \"\"\"Perform modular exponentiation `x = g^exponent mod p`.\n",
    "\n",
    "    x and exponent are quantum variables; g and the modulus are classical constants.\n",
    "\n",
    "    For simplicity, let's assume\n",
    "        - a 4-bit exponent register.\n",
    "        - a 32-bit \"x\" register.\n",
    "    \"\"\"\n",
    "\n",
    "    g: int\n",
    "    mod: int\n",
    "\n",
    "    @property\n",
    "    def signature(self) -> 'Signature':\n",
    "        return Signature([\n",
    "            # A bloq's signature is a list of its input and output registers.\n",
    "            # See the API reference docs for Signature and Register:\n",
    "            # https://qualtran.readthedocs.io/en/latest/reference/qualtran/Signature.html\n",
    "            # https://qualtran.readthedocs.io/en/latest/reference/qualtran/Register.html\n",
    "            #\n",
    "            # and fill in this method with the list of registers according to the bloq's docstring.\n",
    "            # ! -----------------------------\n",
    "            Register('exponent', QUInt(bitsize=4)),\n",
    "            Register('x', QUInt(bitsize=32))\n",
    "            # ! -----------------------------\n",
    "        ])"
   ]
  },
  {
   "cell_type": "code",
   "execution_count": 3,
   "id": "287b40b1-dd91-42eb-975d-eb3cfea20f5e",
   "metadata": {},
   "outputs": [
    {
     "data": {
      "image/svg+xml": [
       "<svg xmlns=\"http://www.w3.org/2000/svg\" xmlns:xlink=\"http://www.w3.org/1999/xlink\" width=\"268pt\" height=\"98pt\" viewBox=\"0.00 0.00 268.00 98.00\">\n",
       "<g id=\"graph0\" class=\"graph\" transform=\"scale(1 1) rotate(0) translate(4 94)\">\n",
       "<title>my_graph</title>\n",
       "<polygon fill=\"white\" stroke=\"none\" points=\"-4,4 -4,-94 264,-94 264,4 -4,4\"/>\n",
       "<!-- exponent_G3 -->\n",
       "<g id=\"node1\" class=\"node\">\n",
       "<title>exponent_G3</title>\n",
       "<text text-anchor=\"middle\" x=\"32.75\" y=\"-66.95\" font-family=\"Times,serif\" font-size=\"14.00\">exponent</text>\n",
       "</g>\n",
       "<!-- ModExp -->\n",
       "<g id=\"node3\" class=\"node\">\n",
       "<title>ModExp</title>\n",
       "<polygon fill=\"none\" stroke=\"black\" points=\"102.5,-66.5 102.5,-83.5 157.5,-83.5 157.5,-66.5 102.5,-66.5\"/>\n",
       "<text text-anchor=\"start\" x=\"112\" y=\"-71\" font-family=\"Times,serif\" font-size=\"10.00\">ModExp</text>\n",
       "<polygon fill=\"none\" stroke=\"black\" points=\"102.5,-44.5 102.5,-66.5 157.5,-66.5 157.5,-44.5 102.5,-44.5\"/>\n",
       "<text text-anchor=\"start\" x=\"105.25\" y=\"-50.2\" font-family=\"Times,serif\" font-size=\"14.00\">exponent</text>\n",
       "<polygon fill=\"none\" stroke=\"black\" points=\"102.5,-22.5 102.5,-44.5 157.5,-44.5 157.5,-22.5 102.5,-22.5\"/>\n",
       "<text text-anchor=\"start\" x=\"126.62\" y=\"-28.2\" font-family=\"Times,serif\" font-size=\"14.00\">x</text>\n",
       "</g>\n",
       "<!-- exponent_G3&#45;&gt;ModExp -->\n",
       "<g id=\"edge1\" class=\"edge\">\n",
       "<title>exponent_G3:e-&gt;ModExp:w</title>\n",
       "<path fill=\"none\" stroke=\"black\" d=\"M65.5,-72C82.44,-72 84.41,-57.7 99.71,-56.14\"/>\n",
       "<ellipse fill=\"black\" stroke=\"black\" cx=\"101\" cy=\"-56.07\" rx=\"1\" ry=\"1\"/>\n",
       "<text text-anchor=\"middle\" x=\"84\" y=\"-65.75\" font-family=\"Times,serif\" font-size=\"10.00\">4</text>\n",
       "</g>\n",
       "<!-- x_G5 -->\n",
       "<g id=\"node2\" class=\"node\">\n",
       "<title>x_G5</title>\n",
       "<text text-anchor=\"middle\" x=\"32.75\" y=\"-12.95\" font-family=\"Times,serif\" font-size=\"14.00\">x</text>\n",
       "</g>\n",
       "<!-- x_G5&#45;&gt;ModExp -->\n",
       "<g id=\"edge2\" class=\"edge\">\n",
       "<title>x_G5:e-&gt;ModExp:w</title>\n",
       "<path fill=\"none\" stroke=\"black\" d=\"M60.75,-18C79.54,-18 82.53,-31.63 99.84,-32.9\"/>\n",
       "<ellipse fill=\"black\" stroke=\"black\" cx=\"101\" cy=\"-32.95\" rx=\"1\" ry=\"1\"/>\n",
       "<text text-anchor=\"middle\" x=\"84\" y=\"-29.75\" font-family=\"Times,serif\" font-size=\"10.00\">32</text>\n",
       "</g>\n",
       "<!-- exponent_G2 -->\n",
       "<g id=\"node4\" class=\"node\">\n",
       "<title>exponent_G2</title>\n",
       "<text text-anchor=\"middle\" x=\"227.25\" y=\"-66.95\" font-family=\"Times,serif\" font-size=\"14.00\">exponent</text>\n",
       "</g>\n",
       "<!-- ModExp&#45;&gt;exponent_G2 -->\n",
       "<g id=\"edge3\" class=\"edge\">\n",
       "<title>ModExp:e-&gt;exponent_G2:w</title>\n",
       "<path fill=\"none\" stroke=\"black\" d=\"M157.5,-56C174.44,-56 176.41,-70.3 191.71,-71.86\"/>\n",
       "<ellipse fill=\"black\" stroke=\"black\" cx=\"193\" cy=\"-71.93\" rx=\"1\" ry=\"1\"/>\n",
       "<text text-anchor=\"middle\" x=\"176\" y=\"-65.75\" font-family=\"Times,serif\" font-size=\"10.00\">4</text>\n",
       "</g>\n",
       "<!-- x_G1 -->\n",
       "<g id=\"node5\" class=\"node\">\n",
       "<title>x_G1</title>\n",
       "<text text-anchor=\"middle\" x=\"227.25\" y=\"-12.95\" font-family=\"Times,serif\" font-size=\"14.00\">x</text>\n",
       "</g>\n",
       "<!-- ModExp&#45;&gt;x_G1 -->\n",
       "<g id=\"edge4\" class=\"edge\">\n",
       "<title>ModExp:e-&gt;x_G1:w</title>\n",
       "<path fill=\"none\" stroke=\"black\" d=\"M157.5,-33C176.29,-33 179.28,-19.37 196.59,-18.1\"/>\n",
       "<ellipse fill=\"black\" stroke=\"black\" cx=\"197.75\" cy=\"-18.05\" rx=\"1\" ry=\"1\"/>\n",
       "<text text-anchor=\"middle\" x=\"176\" y=\"-29.75\" font-family=\"Times,serif\" font-size=\"10.00\">32</text>\n",
       "</g>\n",
       "</g>\n",
       "</svg>"
      ],
      "text/plain": [
       "<IPython.core.display.SVG object>"
      ]
     },
     "metadata": {},
     "output_type": "display_data"
    }
   ],
   "source": [
    "mod_exp = ModExp(g=7, mod=15)\n",
    "show_bloq(mod_exp)"
   ]
  }
 ],
 "metadata": {
  "kernelspec": {
   "display_name": "Python 3 (ipykernel)",
   "language": "python",
   "name": "python3"
  },
  "language_info": {
   "codemirror_mode": {
    "name": "ipython",
    "version": 3
   },
   "file_extension": ".py",
   "mimetype": "text/x-python",
   "name": "python",
   "nbconvert_exporter": "python",
   "pygments_lexer": "ipython3",
   "version": "3.11.8"
  }
 },
 "nbformat": 4,
 "nbformat_minor": 5
}
