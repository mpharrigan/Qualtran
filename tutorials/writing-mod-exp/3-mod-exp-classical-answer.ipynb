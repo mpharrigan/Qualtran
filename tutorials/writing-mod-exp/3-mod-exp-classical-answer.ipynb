{
 "cells": [
  {
   "cell_type": "code",
   "execution_count": 1,
   "id": "de9f621b-7aae-46b6-8229-f360d7b0deb5",
   "metadata": {},
   "outputs": [],
   "source": [
    "from typing import List, Dict, Set\n",
    "import attrs\n",
    "import sympy\n",
    "\n",
    "import qualtran.testing as qlt_testing\n",
    "from qualtran import (\n",
    "    Bloq, BloqBuilder,\n",
    "    QBit, QAny, QInt, QUInt,\n",
    "    Register, Side, Signature,\n",
    ")\n",
    "\n",
    "from qualtran.resource_counting import BloqCountT, SympySymbolAllocator\n",
    "from qualtran.symbolics import SymbolicInt\n",
    "from qualtran.drawing import show_bloq, show_call_graph\n",
    "from qualtran.bloqs.factoring import CtrlModMul"
   ]
  },
  {
   "cell_type": "code",
   "execution_count": 2,
   "id": "4af92ed3-74d6-4305-aa63-9f22fe968279",
   "metadata": {},
   "outputs": [],
   "source": [
    "# new imports\n",
    "from qualtran.simulation.classical_sim import ClassicalValT"
   ]
  },
  {
   "cell_type": "code",
   "execution_count": 3,
   "id": "0d93a58c-f064-45fe-a4ad-af6b803b7129",
   "metadata": {},
   "outputs": [],
   "source": [
    "@attrs.frozen\n",
    "class ModExp(Bloq):\n",
    "    \"\"\"Perform modular exponentiation `x = g^exponent mod p`.\n",
    "\n",
    "    x and exponent are quantum variables; g and the modulus are classical constants.\n",
    "\n",
    "    The exponent register has `n_exponent` bits.\n",
    "\n",
    "    For simplicity, let's assume\n",
    "        - a 32-bit \"x\" register.\n",
    "    \"\"\"\n",
    "\n",
    "    g: int\n",
    "    mod: int\n",
    "    n_exponent: SymbolicInt = 4\n",
    "\n",
    "    @property\n",
    "    def signature(self) -> 'Signature':\n",
    "        return Signature([\n",
    "            Register('exponent', QUInt(bitsize=self.n_exponent)),\n",
    "            # Change alert! \"x\" is now a RIGHT register.\n",
    "            Register('x', QUInt(bitsize=32), side=Side.RIGHT)\n",
    "        ])\n",
    "\n",
    "    def on_classical_vals(\n",
    "            self, exponent: 'ClassicalValT',\n",
    "    ) -> Dict[str, 'ClassicalValT']:\n",
    "        # We can override this method to show how this bloq acts on classical values,\n",
    "        # (computational basis states). The method takes in arguments named according\n",
    "        # to this bloq's registers and must return a dictionary of output values (keyed\n",
    "        # by the bloq's register names)\n",
    "\n",
    "        # ! ---------------------\n",
    "        return {\n",
    "            'exponent': exponent,\n",
    "            'x': (self.g ** exponent) % self.mod\n",
    "        }\n",
    "        # ! ---------------------\n",
    "\n",
    "    def build_call_graph(self, ssa: 'SympySymbolAllocator') -> Set['BloqCountT']:\n",
    "        k = ssa.new_symbol('k')\n",
    "        return {\n",
    "            (CtrlModMul(k=k, mod=self.mod, bitsize=32), self.n_exponent)\n",
    "        }"
   ]
  },
  {
   "cell_type": "code",
   "execution_count": 4,
   "id": "d69624f2-eac5-481a-8c83-16f88e42d804",
   "metadata": {},
   "outputs": [
    {
     "name": "stdout",
     "output_type": "stream",
     "text": [
      "0 1\n",
      "1 7\n",
      "2 4\n",
      "3 13\n",
      "4 1\n",
      "5 7\n",
      "6 4\n",
      "7 13\n",
      "8 1\n",
      "9 7\n"
     ]
    }
   ],
   "source": [
    "m = ModExp(g=7, mod=15)\n",
    "for exponent in range(10):\n",
    "    exp_out, x_out = m.call_classically(exponent=exponent)\n",
    "    assert exp_out == exponent\n",
    "    print(exponent, x_out)"
   ]
  }
 ],
 "metadata": {
  "kernelspec": {
   "display_name": "Python 3 (ipykernel)",
   "language": "python",
   "name": "python3"
  },
  "language_info": {
   "codemirror_mode": {
    "name": "ipython",
    "version": 3
   },
   "file_extension": ".py",
   "mimetype": "text/x-python",
   "name": "python",
   "nbconvert_exporter": "python",
   "pygments_lexer": "ipython3",
   "version": "3.11.8"
  }
 },
 "nbformat": 4,
 "nbformat_minor": 5
}
