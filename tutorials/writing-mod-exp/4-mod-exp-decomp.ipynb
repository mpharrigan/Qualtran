{
 "cells": [
  {
   "cell_type": "code",
   "execution_count": null,
   "id": "74f108eb-0fa2-477a-a4de-f964b5440807",
   "metadata": {},
   "outputs": [],
   "source": [
    "from typing import List, Dict, Set\n",
    "import attrs\n",
    "import sympy\n",
    "\n",
    "import qualtran.testing as qlt_testing\n",
    "from qualtran import (\n",
    "    Bloq, BloqBuilder,\n",
    "    QBit, QAny, QInt, QUInt,\n",
    "    Register, Side, Signature,\n",
    ")\n",
    "\n",
    "from qualtran.resource_counting import BloqCountT, SympySymbolAllocator\n",
    "from qualtran.symbolics import SymbolicInt\n",
    "from qualtran.drawing import show_bloq, show_call_graph\n",
    "from qualtran.simulation.classical_sim import ClassicalValT\n",
    "from qualtran.bloqs.factoring import CtrlModMul"
   ]
  },
  {
   "cell_type": "code",
   "execution_count": null,
   "id": "840a88cd-c1de-42ed-a109-3a79dc9f3a98",
   "metadata": {},
   "outputs": [],
   "source": [
    "@attrs.frozen\n",
    "class ModExp(Bloq):\n",
    "    \"\"\"Perform modular exponentiation `x = g^exponent mod p`.\n",
    "\n",
    "    x and exponent are quantum variables; g and the modulus are classical constants.\n",
    "\n",
    "    The exponent register has `n_exponent` bits.\n",
    "\n",
    "    For simplicity, let's assume\n",
    "        - a 32-bit \"x\" register.\n",
    "    \"\"\"\n",
    "\n",
    "    g: int\n",
    "    mod: int\n",
    "    n_exponent: SymbolicInt = 4\n",
    "\n",
    "    @property\n",
    "    def signature(self) -> 'Signature':\n",
    "        return Signature([\n",
    "            Register('exponent', QUInt(bitsize=self.n_exponent)),\n",
    "            Register('x', QUInt(bitsize=32), side=Side.RIGHT)\n",
    "        ])\n",
    "\n",
    "    def build_composite_bloq(self, bb: 'BloqBuilder', exponent):\n",
    "        # Use `bb.add(subbloq, arg=val, arg=val)` to \"wire up\" a circuit for modular exponentiation.\n",
    "        # The system will pass in a quantum variable, `exponent` that can be split into bits,\n",
    "        # passed into subbloqs, and returned as output variables.\n",
    "        #\n",
    "        # Algorithm steps:\n",
    "        #  1. initialize the output register in the |1> state\n",
    "        #  2. Use each bit of the exponent register to control a CtrlModMul operation, where\n",
    "        #     the multiplicative constant is g^2^j for bit index j\n",
    "        #  3. Return the exponent and x register in accordance with this bloq's signature.\n",
    "\n",
    "        # Hints:\n",
    "        from qualtran.bloqs.basic_gates import IntState\n",
    "        # https://qualtran.readthedocs.io/en/latest/bloqs/basic_gates/states_and_effects.html#intstate\n",
    "        from qualtran.bloqs.factoring import CtrlModMul\n",
    "        # https://qualtran.readthedocs.io/en/latest/bloqs/factoring/mod_mul.html\n",
    "        from qualtran.bloqs.bookkeeping import Split, Join\n",
    "        # or, `soqs = bb.split(soq)` and `soq = bb.join(soqs, dtype)`\n",
    "\n",
    "        pass\n",
    "\n",
    "    def on_classical_vals(\n",
    "            self, exponent: 'ClassicalValT',\n",
    "    ) -> Dict[str, 'ClassicalValT']:\n",
    "        return {\n",
    "            'exponent': exponent,\n",
    "            'x': (self.g ** exponent) % self.mod\n",
    "        }\n",
    "\n",
    "    def build_call_graph(self, ssa: 'SympySymbolAllocator') -> Set['BloqCountT']:\n",
    "        k = ssa.new_symbol('k')\n",
    "        return {\n",
    "            (CtrlModMul(k=k, mod=self.mod, bitsize=32), self.n_exponent)\n",
    "        }"
   ]
  },
  {
   "cell_type": "code",
   "execution_count": null,
   "id": "324cbfd2-b3af-4440-8597-34988a04cb86",
   "metadata": {},
   "outputs": [],
   "source": [
    "mod_exp = ModExp(g=7, mod=15)\n",
    "mod_exp_decomp = qlt_testing.assert_valid_bloq_decomposition(mod_exp)"
   ]
  },
  {
   "cell_type": "code",
   "execution_count": null,
   "id": "f364b88f-25c0-4392-8550-0ec86557921d",
   "metadata": {},
   "outputs": [],
   "source": [
    "mod_exp = ModExp(g=7, mod=15)\n",
    "mod_exp_decomp = mod_exp.decompose_bloq()\n",
    "for exponent in range(10):\n",
    "    ref_out = mod_exp.call_classically(exponent=exponent)\n",
    "    decomp_out = mod_exp_decomp.call_classically(exponent=exponent)\n",
    "    assert ref_out == decomp_out\n",
    "    print('ref', ref_out, 'decomp', decomp_out)"
   ]
  }
 ],
 "metadata": {
  "kernelspec": {
   "display_name": "Python 3 (ipykernel)",
   "language": "python",
   "name": "python3"
  },
  "language_info": {
   "codemirror_mode": {
    "name": "ipython",
    "version": 3
   },
   "file_extension": ".py",
   "mimetype": "text/x-python",
   "name": "python",
   "nbconvert_exporter": "python",
   "pygments_lexer": "ipython3",
   "version": "3.11.8"
  }
 },
 "nbformat": 4,
 "nbformat_minor": 5
}
